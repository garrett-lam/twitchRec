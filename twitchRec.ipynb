{
 "cells": [
  {
   "cell_type": "code",
   "execution_count": 1,
   "metadata": {},
   "outputs": [],
   "source": [
    "import pandas as pd\n",
    "import numpy as np\n",
    "import seaborn as sns\n",
    "import matplotlib.pyplot as plt\n",
    "from collections import defaultdict\n",
    "from sklearn.model_selection import train_test_split\n",
    "import random\n",
    "import math\n",
    "from sklearn.metrics import roc_curve, roc_auc_score\n",
    "import tensorflow as tf\n"
   ]
  },
  {
   "cell_type": "markdown",
   "metadata": {},
   "source": [
    "## EDA"
   ]
  },
  {
   "cell_type": "code",
   "execution_count": 2,
   "metadata": {},
   "outputs": [
    {
     "data": {
      "text/html": [
       "<div>\n",
       "<style scoped>\n",
       "    .dataframe tbody tr th:only-of-type {\n",
       "        vertical-align: middle;\n",
       "    }\n",
       "\n",
       "    .dataframe tbody tr th {\n",
       "        vertical-align: top;\n",
       "    }\n",
       "\n",
       "    .dataframe thead th {\n",
       "        text-align: right;\n",
       "    }\n",
       "</style>\n",
       "<table border=\"1\" class=\"dataframe\">\n",
       "  <thead>\n",
       "    <tr style=\"text-align: right;\">\n",
       "      <th></th>\n",
       "      <th>user_id</th>\n",
       "      <th>stream_id</th>\n",
       "      <th>streamer_name</th>\n",
       "      <th>start_time</th>\n",
       "      <th>stop_time</th>\n",
       "    </tr>\n",
       "  </thead>\n",
       "  <tbody>\n",
       "    <tr>\n",
       "      <th>0</th>\n",
       "      <td>1</td>\n",
       "      <td>33842865744</td>\n",
       "      <td>mithrain</td>\n",
       "      <td>154</td>\n",
       "      <td>156</td>\n",
       "    </tr>\n",
       "    <tr>\n",
       "      <th>1</th>\n",
       "      <td>1</td>\n",
       "      <td>33846768288</td>\n",
       "      <td>alptv</td>\n",
       "      <td>166</td>\n",
       "      <td>169</td>\n",
       "    </tr>\n",
       "    <tr>\n",
       "      <th>2</th>\n",
       "      <td>1</td>\n",
       "      <td>33886469056</td>\n",
       "      <td>mithrain</td>\n",
       "      <td>587</td>\n",
       "      <td>588</td>\n",
       "    </tr>\n",
       "    <tr>\n",
       "      <th>3</th>\n",
       "      <td>1</td>\n",
       "      <td>33887624992</td>\n",
       "      <td>wtcn</td>\n",
       "      <td>589</td>\n",
       "      <td>591</td>\n",
       "    </tr>\n",
       "    <tr>\n",
       "      <th>4</th>\n",
       "      <td>1</td>\n",
       "      <td>33890145056</td>\n",
       "      <td>jrokezftw</td>\n",
       "      <td>591</td>\n",
       "      <td>594</td>\n",
       "    </tr>\n",
       "    <tr>\n",
       "      <th>...</th>\n",
       "      <td>...</td>\n",
       "      <td>...</td>\n",
       "      <td>...</td>\n",
       "      <td>...</td>\n",
       "      <td>...</td>\n",
       "    </tr>\n",
       "    <tr>\n",
       "      <th>3051728</th>\n",
       "      <td>100000</td>\n",
       "      <td>34167930576</td>\n",
       "      <td>mckytv</td>\n",
       "      <td>3582</td>\n",
       "      <td>3583</td>\n",
       "    </tr>\n",
       "    <tr>\n",
       "      <th>3051729</th>\n",
       "      <td>100000</td>\n",
       "      <td>34168288656</td>\n",
       "      <td>natehill</td>\n",
       "      <td>3582</td>\n",
       "      <td>3583</td>\n",
       "    </tr>\n",
       "    <tr>\n",
       "      <th>3051730</th>\n",
       "      <td>100000</td>\n",
       "      <td>34169594512</td>\n",
       "      <td>fortnite</td>\n",
       "      <td>3582</td>\n",
       "      <td>3584</td>\n",
       "    </tr>\n",
       "    <tr>\n",
       "      <th>3051731</th>\n",
       "      <td>100000</td>\n",
       "      <td>34180223072</td>\n",
       "      <td>highdistortion</td>\n",
       "      <td>3709</td>\n",
       "      <td>3711</td>\n",
       "    </tr>\n",
       "    <tr>\n",
       "      <th>3051732</th>\n",
       "      <td>100000</td>\n",
       "      <td>34181187808</td>\n",
       "      <td>symfuhny</td>\n",
       "      <td>3706</td>\n",
       "      <td>3708</td>\n",
       "    </tr>\n",
       "  </tbody>\n",
       "</table>\n",
       "<p>3051733 rows × 5 columns</p>\n",
       "</div>"
      ],
      "text/plain": [
       "         user_id    stream_id   streamer_name  start_time  stop_time\n",
       "0              1  33842865744        mithrain         154        156\n",
       "1              1  33846768288           alptv         166        169\n",
       "2              1  33886469056        mithrain         587        588\n",
       "3              1  33887624992            wtcn         589        591\n",
       "4              1  33890145056       jrokezftw         591        594\n",
       "...          ...          ...             ...         ...        ...\n",
       "3051728   100000  34167930576          mckytv        3582       3583\n",
       "3051729   100000  34168288656        natehill        3582       3583\n",
       "3051730   100000  34169594512        fortnite        3582       3584\n",
       "3051731   100000  34180223072  highdistortion        3709       3711\n",
       "3051732   100000  34181187808        symfuhny        3706       3708\n",
       "\n",
       "[3051733 rows x 5 columns]"
      ]
     },
     "execution_count": 2,
     "metadata": {},
     "output_type": "execute_result"
    }
   ],
   "source": [
    "df = pd.read_csv('100k_a.csv', header=None)\n",
    "df = df.rename(columns={0: 'user_id', 1: 'stream_id', 2: 'streamer_name', 3: 'start_time', 4: 'stop_time'})\n",
    "df"
   ]
  },
  {
   "cell_type": "code",
   "execution_count": 3,
   "metadata": {},
   "outputs": [
    {
     "data": {
      "text/plain": [
       "user_id          0\n",
       "stream_id        0\n",
       "streamer_name    0\n",
       "start_time       0\n",
       "stop_time        0\n",
       "dtype: int64"
      ]
     },
     "execution_count": 3,
     "metadata": {},
     "output_type": "execute_result"
    }
   ],
   "source": [
    "df.isna().sum() # check for NAs"
   ]
  },
  {
   "cell_type": "code",
   "execution_count": 4,
   "metadata": {},
   "outputs": [
    {
     "data": {
      "text/plain": [
       "(100000, 739991, 162625)"
      ]
     },
     "execution_count": 4,
     "metadata": {},
     "output_type": "execute_result"
    }
   ],
   "source": [
    "df['user_id'].nunique(), df['stream_id'].nunique(), df['streamer_name'].nunique() # original checks"
   ]
  },
  {
   "cell_type": "code",
   "execution_count": 5,
   "metadata": {},
   "outputs": [],
   "source": [
    "# Start and stop times are provided as integers and represent periods of 10 minutes.\n",
    "df['start_time'] = df['start_time'] * 10\n",
    "df['stop_time'] = df['stop_time'] * 10"
   ]
  },
  {
   "cell_type": "code",
   "execution_count": 6,
   "metadata": {},
   "outputs": [],
   "source": [
    "# convert minutes to hours\n",
    "df['time_spent'] = df['stop_time'] - df['start_time']"
   ]
  },
  {
   "cell_type": "code",
   "execution_count": 7,
   "metadata": {},
   "outputs": [
    {
     "data": {
      "text/html": [
       "<div>\n",
       "<style scoped>\n",
       "    .dataframe tbody tr th:only-of-type {\n",
       "        vertical-align: middle;\n",
       "    }\n",
       "\n",
       "    .dataframe tbody tr th {\n",
       "        vertical-align: top;\n",
       "    }\n",
       "\n",
       "    .dataframe thead th {\n",
       "        text-align: right;\n",
       "    }\n",
       "</style>\n",
       "<table border=\"1\" class=\"dataframe\">\n",
       "  <thead>\n",
       "    <tr style=\"text-align: right;\">\n",
       "      <th></th>\n",
       "      <th>user_id</th>\n",
       "      <th>stream_id</th>\n",
       "      <th>streamer_name</th>\n",
       "      <th>start_time</th>\n",
       "      <th>stop_time</th>\n",
       "      <th>time_spent</th>\n",
       "    </tr>\n",
       "  </thead>\n",
       "  <tbody>\n",
       "    <tr>\n",
       "      <th>7071</th>\n",
       "      <td>247</td>\n",
       "      <td>34317269936</td>\n",
       "      <td>failverde</td>\n",
       "      <td>50820</td>\n",
       "      <td>51370</td>\n",
       "      <td>550</td>\n",
       "    </tr>\n",
       "    <tr>\n",
       "      <th>18587</th>\n",
       "      <td>649</td>\n",
       "      <td>34071314928</td>\n",
       "      <td>dota2ruhub</td>\n",
       "      <td>25530</td>\n",
       "      <td>26040</td>\n",
       "      <td>510</td>\n",
       "    </tr>\n",
       "    <tr>\n",
       "      <th>22627</th>\n",
       "      <td>769</td>\n",
       "      <td>34103327360</td>\n",
       "      <td>elmiillor</td>\n",
       "      <td>28400</td>\n",
       "      <td>28950</td>\n",
       "      <td>550</td>\n",
       "    </tr>\n",
       "    <tr>\n",
       "      <th>33314</th>\n",
       "      <td>1133</td>\n",
       "      <td>34104883024</td>\n",
       "      <td>tfue</td>\n",
       "      <td>28560</td>\n",
       "      <td>29280</td>\n",
       "      <td>720</td>\n",
       "    </tr>\n",
       "    <tr>\n",
       "      <th>33316</th>\n",
       "      <td>1133</td>\n",
       "      <td>34115354272</td>\n",
       "      <td>ninja</td>\n",
       "      <td>29810</td>\n",
       "      <td>30360</td>\n",
       "      <td>550</td>\n",
       "    </tr>\n",
       "    <tr>\n",
       "      <th>...</th>\n",
       "      <td>...</td>\n",
       "      <td>...</td>\n",
       "      <td>...</td>\n",
       "      <td>...</td>\n",
       "      <td>...</td>\n",
       "      <td>...</td>\n",
       "    </tr>\n",
       "    <tr>\n",
       "      <th>3035821</th>\n",
       "      <td>99543</td>\n",
       "      <td>34219020832</td>\n",
       "      <td>zironicdk</td>\n",
       "      <td>41130</td>\n",
       "      <td>41620</td>\n",
       "      <td>490</td>\n",
       "    </tr>\n",
       "    <tr>\n",
       "      <th>3042010</th>\n",
       "      <td>99699</td>\n",
       "      <td>34157423888</td>\n",
       "      <td>mejash</td>\n",
       "      <td>34730</td>\n",
       "      <td>35240</td>\n",
       "      <td>510</td>\n",
       "    </tr>\n",
       "    <tr>\n",
       "      <th>3044264</th>\n",
       "      <td>99776</td>\n",
       "      <td>34057571888</td>\n",
       "      <td>dota2ruhub</td>\n",
       "      <td>23790</td>\n",
       "      <td>24350</td>\n",
       "      <td>560</td>\n",
       "    </tr>\n",
       "    <tr>\n",
       "      <th>3044380</th>\n",
       "      <td>99776</td>\n",
       "      <td>34374601376</td>\n",
       "      <td>dota2ruhub</td>\n",
       "      <td>56820</td>\n",
       "      <td>57360</td>\n",
       "      <td>540</td>\n",
       "    </tr>\n",
       "    <tr>\n",
       "      <th>3049753</th>\n",
       "      <td>99934</td>\n",
       "      <td>34057525360</td>\n",
       "      <td>mdldisney</td>\n",
       "      <td>24000</td>\n",
       "      <td>24520</td>\n",
       "      <td>520</td>\n",
       "    </tr>\n",
       "  </tbody>\n",
       "</table>\n",
       "<p>731 rows × 6 columns</p>\n",
       "</div>"
      ],
      "text/plain": [
       "         user_id    stream_id streamer_name  start_time  stop_time  time_spent\n",
       "7071         247  34317269936     failverde       50820      51370         550\n",
       "18587        649  34071314928    dota2ruhub       25530      26040         510\n",
       "22627        769  34103327360     elmiillor       28400      28950         550\n",
       "33314       1133  34104883024          tfue       28560      29280         720\n",
       "33316       1133  34115354272         ninja       29810      30360         550\n",
       "...          ...          ...           ...         ...        ...         ...\n",
       "3035821    99543  34219020832     zironicdk       41130      41620         490\n",
       "3042010    99699  34157423888        mejash       34730      35240         510\n",
       "3044264    99776  34057571888    dota2ruhub       23790      24350         560\n",
       "3044380    99776  34374601376    dota2ruhub       56820      57360         540\n",
       "3049753    99934  34057525360     mdldisney       24000      24520         520\n",
       "\n",
       "[731 rows x 6 columns]"
      ]
     },
     "execution_count": 7,
     "metadata": {},
     "output_type": "execute_result"
    }
   ],
   "source": [
    "# check for outliers in time_spent; those who watch greater than 8 hours, unrealistic for someone to actively be watching a stream for longer than 8 hours and more likely just left tab open\n",
    "df[df['time_spent'] > 480]"
   ]
  },
  {
   "cell_type": "code",
   "execution_count": 8,
   "metadata": {},
   "outputs": [
    {
     "data": {
      "text/html": [
       "<div>\n",
       "<style scoped>\n",
       "    .dataframe tbody tr th:only-of-type {\n",
       "        vertical-align: middle;\n",
       "    }\n",
       "\n",
       "    .dataframe tbody tr th {\n",
       "        vertical-align: top;\n",
       "    }\n",
       "\n",
       "    .dataframe thead th {\n",
       "        text-align: right;\n",
       "    }\n",
       "</style>\n",
       "<table border=\"1\" class=\"dataframe\">\n",
       "  <thead>\n",
       "    <tr style=\"text-align: right;\">\n",
       "      <th></th>\n",
       "      <th>user_id</th>\n",
       "      <th>stream_id</th>\n",
       "      <th>streamer_name</th>\n",
       "      <th>start_time</th>\n",
       "      <th>stop_time</th>\n",
       "      <th>time_spent</th>\n",
       "    </tr>\n",
       "  </thead>\n",
       "  <tbody>\n",
       "    <tr>\n",
       "      <th>0</th>\n",
       "      <td>1</td>\n",
       "      <td>33842865744</td>\n",
       "      <td>mithrain</td>\n",
       "      <td>1540</td>\n",
       "      <td>1560</td>\n",
       "      <td>20</td>\n",
       "    </tr>\n",
       "    <tr>\n",
       "      <th>1</th>\n",
       "      <td>1</td>\n",
       "      <td>33846768288</td>\n",
       "      <td>alptv</td>\n",
       "      <td>1660</td>\n",
       "      <td>1690</td>\n",
       "      <td>30</td>\n",
       "    </tr>\n",
       "    <tr>\n",
       "      <th>2</th>\n",
       "      <td>1</td>\n",
       "      <td>33886469056</td>\n",
       "      <td>mithrain</td>\n",
       "      <td>5870</td>\n",
       "      <td>5880</td>\n",
       "      <td>10</td>\n",
       "    </tr>\n",
       "    <tr>\n",
       "      <th>3</th>\n",
       "      <td>1</td>\n",
       "      <td>33887624992</td>\n",
       "      <td>wtcn</td>\n",
       "      <td>5890</td>\n",
       "      <td>5910</td>\n",
       "      <td>20</td>\n",
       "    </tr>\n",
       "    <tr>\n",
       "      <th>4</th>\n",
       "      <td>1</td>\n",
       "      <td>33890145056</td>\n",
       "      <td>jrokezftw</td>\n",
       "      <td>5910</td>\n",
       "      <td>5940</td>\n",
       "      <td>30</td>\n",
       "    </tr>\n",
       "    <tr>\n",
       "      <th>...</th>\n",
       "      <td>...</td>\n",
       "      <td>...</td>\n",
       "      <td>...</td>\n",
       "      <td>...</td>\n",
       "      <td>...</td>\n",
       "      <td>...</td>\n",
       "    </tr>\n",
       "    <tr>\n",
       "      <th>3051728</th>\n",
       "      <td>100000</td>\n",
       "      <td>34167930576</td>\n",
       "      <td>mckytv</td>\n",
       "      <td>35820</td>\n",
       "      <td>35830</td>\n",
       "      <td>10</td>\n",
       "    </tr>\n",
       "    <tr>\n",
       "      <th>3051729</th>\n",
       "      <td>100000</td>\n",
       "      <td>34168288656</td>\n",
       "      <td>natehill</td>\n",
       "      <td>35820</td>\n",
       "      <td>35830</td>\n",
       "      <td>10</td>\n",
       "    </tr>\n",
       "    <tr>\n",
       "      <th>3051730</th>\n",
       "      <td>100000</td>\n",
       "      <td>34169594512</td>\n",
       "      <td>fortnite</td>\n",
       "      <td>35820</td>\n",
       "      <td>35840</td>\n",
       "      <td>20</td>\n",
       "    </tr>\n",
       "    <tr>\n",
       "      <th>3051731</th>\n",
       "      <td>100000</td>\n",
       "      <td>34180223072</td>\n",
       "      <td>highdistortion</td>\n",
       "      <td>37090</td>\n",
       "      <td>37110</td>\n",
       "      <td>20</td>\n",
       "    </tr>\n",
       "    <tr>\n",
       "      <th>3051732</th>\n",
       "      <td>100000</td>\n",
       "      <td>34181187808</td>\n",
       "      <td>symfuhny</td>\n",
       "      <td>37060</td>\n",
       "      <td>37080</td>\n",
       "      <td>20</td>\n",
       "    </tr>\n",
       "  </tbody>\n",
       "</table>\n",
       "<p>3051002 rows × 6 columns</p>\n",
       "</div>"
      ],
      "text/plain": [
       "         user_id    stream_id   streamer_name  start_time  stop_time  \\\n",
       "0              1  33842865744        mithrain        1540       1560   \n",
       "1              1  33846768288           alptv        1660       1690   \n",
       "2              1  33886469056        mithrain        5870       5880   \n",
       "3              1  33887624992            wtcn        5890       5910   \n",
       "4              1  33890145056       jrokezftw        5910       5940   \n",
       "...          ...          ...             ...         ...        ...   \n",
       "3051728   100000  34167930576          mckytv       35820      35830   \n",
       "3051729   100000  34168288656        natehill       35820      35830   \n",
       "3051730   100000  34169594512        fortnite       35820      35840   \n",
       "3051731   100000  34180223072  highdistortion       37090      37110   \n",
       "3051732   100000  34181187808        symfuhny       37060      37080   \n",
       "\n",
       "         time_spent  \n",
       "0                20  \n",
       "1                30  \n",
       "2                10  \n",
       "3                20  \n",
       "4                30  \n",
       "...             ...  \n",
       "3051728          10  \n",
       "3051729          10  \n",
       "3051730          20  \n",
       "3051731          20  \n",
       "3051732          20  \n",
       "\n",
       "[3051002 rows x 6 columns]"
      ]
     },
     "execution_count": 8,
     "metadata": {},
     "output_type": "execute_result"
    }
   ],
   "source": [
    "# only keep those who have watched <= 8 hours\n",
    "df = df[df['time_spent'] <= 480]\n",
    "df"
   ]
  },
  {
   "cell_type": "code",
   "execution_count": 9,
   "metadata": {},
   "outputs": [
    {
     "data": {
      "text/plain": [
       "time_spent\n",
       "10     1559891\n",
       "20      498252\n",
       "30      263958\n",
       "40      168944\n",
       "50      115769\n",
       "60       85323\n",
       "70       64238\n",
       "80       49751\n",
       "90       40007\n",
       "100      32180\n",
       "110      26825\n",
       "120      22509\n",
       "130      18312\n",
       "140      15173\n",
       "150      12759\n",
       "160      10884\n",
       "170       9396\n",
       "180       8149\n",
       "190       6876\n",
       "200       5834\n",
       "210       4922\n",
       "220       4384\n",
       "230       3832\n",
       "240       3292\n",
       "250       2849\n",
       "260       2276\n",
       "270       1983\n",
       "280       1740\n",
       "290       1430\n",
       "300       1308\n",
       "310       1084\n",
       "320        996\n",
       "330        823\n",
       "340        737\n",
       "350        688\n",
       "360        565\n",
       "370        468\n",
       "380        426\n",
       "390        372\n",
       "400        296\n",
       "420        276\n",
       "410        263\n",
       "430        223\n",
       "440        207\n",
       "450        168\n",
       "460        136\n",
       "470        134\n",
       "480         94\n",
       "Name: count, dtype: int64"
      ]
     },
     "execution_count": 9,
     "metadata": {},
     "output_type": "execute_result"
    }
   ],
   "source": [
    "df['time_spent'].value_counts()"
   ]
  },
  {
   "cell_type": "code",
   "execution_count": 10,
   "metadata": {},
   "outputs": [
    {
     "name": "stdout",
     "output_type": "stream",
     "text": [
      "<class 'pandas.core.frame.DataFrame'>\n",
      "Index: 3051002 entries, 0 to 3051732\n",
      "Data columns (total 6 columns):\n",
      " #   Column         Dtype \n",
      "---  ------         ----- \n",
      " 0   user_id        int64 \n",
      " 1   stream_id      int64 \n",
      " 2   streamer_name  object\n",
      " 3   start_time     int64 \n",
      " 4   stop_time      int64 \n",
      " 5   time_spent     int64 \n",
      "dtypes: int64(5), object(1)\n",
      "memory usage: 162.9+ MB\n"
     ]
    }
   ],
   "source": [
    "df.info()"
   ]
  },
  {
   "cell_type": "code",
   "execution_count": 11,
   "metadata": {},
   "outputs": [
    {
     "data": {
      "text/html": [
       "<div>\n",
       "<style scoped>\n",
       "    .dataframe tbody tr th:only-of-type {\n",
       "        vertical-align: middle;\n",
       "    }\n",
       "\n",
       "    .dataframe tbody tr th {\n",
       "        vertical-align: top;\n",
       "    }\n",
       "\n",
       "    .dataframe thead th {\n",
       "        text-align: right;\n",
       "    }\n",
       "</style>\n",
       "<table border=\"1\" class=\"dataframe\">\n",
       "  <thead>\n",
       "    <tr style=\"text-align: right;\">\n",
       "      <th></th>\n",
       "      <th>user_id</th>\n",
       "      <th>stream_id</th>\n",
       "      <th>start_time</th>\n",
       "      <th>stop_time</th>\n",
       "      <th>time_spent</th>\n",
       "    </tr>\n",
       "  </thead>\n",
       "  <tbody>\n",
       "    <tr>\n",
       "      <th>count</th>\n",
       "      <td>3.051002e+06</td>\n",
       "      <td>3.051002e+06</td>\n",
       "      <td>3.051002e+06</td>\n",
       "      <td>3.051002e+06</td>\n",
       "      <td>3.051002e+06</td>\n",
       "    </tr>\n",
       "    <tr>\n",
       "      <th>mean</th>\n",
       "      <td>5.032247e+04</td>\n",
       "      <td>3.413001e+10</td>\n",
       "      <td>3.145919e+04</td>\n",
       "      <td>3.149048e+04</td>\n",
       "      <td>3.129228e+01</td>\n",
       "    </tr>\n",
       "    <tr>\n",
       "      <th>std</th>\n",
       "      <td>2.889483e+04</td>\n",
       "      <td>1.682299e+08</td>\n",
       "      <td>1.772582e+04</td>\n",
       "      <td>1.772713e+04</td>\n",
       "      <td>4.175118e+01</td>\n",
       "    </tr>\n",
       "    <tr>\n",
       "      <th>min</th>\n",
       "      <td>1.000000e+00</td>\n",
       "      <td>3.380153e+10</td>\n",
       "      <td>0.000000e+00</td>\n",
       "      <td>1.000000e+01</td>\n",
       "      <td>1.000000e+01</td>\n",
       "    </tr>\n",
       "    <tr>\n",
       "      <th>25%</th>\n",
       "      <td>2.528400e+04</td>\n",
       "      <td>3.398877e+10</td>\n",
       "      <td>1.617000e+04</td>\n",
       "      <td>1.620000e+04</td>\n",
       "      <td>1.000000e+01</td>\n",
       "    </tr>\n",
       "    <tr>\n",
       "      <th>50%</th>\n",
       "      <td>5.029800e+04</td>\n",
       "      <td>3.413068e+10</td>\n",
       "      <td>3.174000e+04</td>\n",
       "      <td>3.178000e+04</td>\n",
       "      <td>1.000000e+01</td>\n",
       "    </tr>\n",
       "    <tr>\n",
       "      <th>75%</th>\n",
       "      <td>7.545200e+04</td>\n",
       "      <td>3.427399e+10</td>\n",
       "      <td>4.676000e+04</td>\n",
       "      <td>4.679000e+04</td>\n",
       "      <td>3.000000e+01</td>\n",
       "    </tr>\n",
       "    <tr>\n",
       "      <th>max</th>\n",
       "      <td>1.000000e+05</td>\n",
       "      <td>3.441642e+10</td>\n",
       "      <td>6.147000e+04</td>\n",
       "      <td>6.148000e+04</td>\n",
       "      <td>4.800000e+02</td>\n",
       "    </tr>\n",
       "  </tbody>\n",
       "</table>\n",
       "</div>"
      ],
      "text/plain": [
       "            user_id     stream_id    start_time     stop_time    time_spent\n",
       "count  3.051002e+06  3.051002e+06  3.051002e+06  3.051002e+06  3.051002e+06\n",
       "mean   5.032247e+04  3.413001e+10  3.145919e+04  3.149048e+04  3.129228e+01\n",
       "std    2.889483e+04  1.682299e+08  1.772582e+04  1.772713e+04  4.175118e+01\n",
       "min    1.000000e+00  3.380153e+10  0.000000e+00  1.000000e+01  1.000000e+01\n",
       "25%    2.528400e+04  3.398877e+10  1.617000e+04  1.620000e+04  1.000000e+01\n",
       "50%    5.029800e+04  3.413068e+10  3.174000e+04  3.178000e+04  1.000000e+01\n",
       "75%    7.545200e+04  3.427399e+10  4.676000e+04  4.679000e+04  3.000000e+01\n",
       "max    1.000000e+05  3.441642e+10  6.147000e+04  6.148000e+04  4.800000e+02"
      ]
     },
     "execution_count": 11,
     "metadata": {},
     "output_type": "execute_result"
    }
   ],
   "source": [
    "df.describe()"
   ]
  },
  {
   "cell_type": "code",
   "execution_count": 12,
   "metadata": {},
   "outputs": [
    {
     "data": {
      "text/plain": [
       "(100000, 739972, 162624)"
      ]
     },
     "execution_count": 12,
     "metadata": {},
     "output_type": "execute_result"
    }
   ],
   "source": [
    "# number of streamer_names and number of stream_ids are different, suggesting that each streamer_name maps to multiple stream_ids, use streamer_name as item\n",
    "df['user_id'].nunique(), df['stream_id'].nunique(), df['streamer_name'].nunique() "
   ]
  },
  {
   "cell_type": "code",
   "execution_count": 13,
   "metadata": {},
   "outputs": [
    {
     "data": {
      "text/html": [
       "<div>\n",
       "<style scoped>\n",
       "    .dataframe tbody tr th:only-of-type {\n",
       "        vertical-align: middle;\n",
       "    }\n",
       "\n",
       "    .dataframe tbody tr th {\n",
       "        vertical-align: top;\n",
       "    }\n",
       "\n",
       "    .dataframe thead th {\n",
       "        text-align: right;\n",
       "    }\n",
       "</style>\n",
       "<table border=\"1\" class=\"dataframe\">\n",
       "  <thead>\n",
       "    <tr style=\"text-align: right;\">\n",
       "      <th></th>\n",
       "      <th>user_id</th>\n",
       "      <th>streamer_name</th>\n",
       "      <th>time_spent</th>\n",
       "    </tr>\n",
       "  </thead>\n",
       "  <tbody>\n",
       "    <tr>\n",
       "      <th>0</th>\n",
       "      <td>1</td>\n",
       "      <td>mithrain</td>\n",
       "      <td>20</td>\n",
       "    </tr>\n",
       "    <tr>\n",
       "      <th>1</th>\n",
       "      <td>1</td>\n",
       "      <td>alptv</td>\n",
       "      <td>30</td>\n",
       "    </tr>\n",
       "    <tr>\n",
       "      <th>2</th>\n",
       "      <td>1</td>\n",
       "      <td>mithrain</td>\n",
       "      <td>10</td>\n",
       "    </tr>\n",
       "    <tr>\n",
       "      <th>3</th>\n",
       "      <td>1</td>\n",
       "      <td>wtcn</td>\n",
       "      <td>20</td>\n",
       "    </tr>\n",
       "    <tr>\n",
       "      <th>4</th>\n",
       "      <td>1</td>\n",
       "      <td>jrokezftw</td>\n",
       "      <td>30</td>\n",
       "    </tr>\n",
       "    <tr>\n",
       "      <th>...</th>\n",
       "      <td>...</td>\n",
       "      <td>...</td>\n",
       "      <td>...</td>\n",
       "    </tr>\n",
       "    <tr>\n",
       "      <th>3051728</th>\n",
       "      <td>100000</td>\n",
       "      <td>mckytv</td>\n",
       "      <td>10</td>\n",
       "    </tr>\n",
       "    <tr>\n",
       "      <th>3051729</th>\n",
       "      <td>100000</td>\n",
       "      <td>natehill</td>\n",
       "      <td>10</td>\n",
       "    </tr>\n",
       "    <tr>\n",
       "      <th>3051730</th>\n",
       "      <td>100000</td>\n",
       "      <td>fortnite</td>\n",
       "      <td>20</td>\n",
       "    </tr>\n",
       "    <tr>\n",
       "      <th>3051731</th>\n",
       "      <td>100000</td>\n",
       "      <td>highdistortion</td>\n",
       "      <td>20</td>\n",
       "    </tr>\n",
       "    <tr>\n",
       "      <th>3051732</th>\n",
       "      <td>100000</td>\n",
       "      <td>symfuhny</td>\n",
       "      <td>20</td>\n",
       "    </tr>\n",
       "  </tbody>\n",
       "</table>\n",
       "<p>3051002 rows × 3 columns</p>\n",
       "</div>"
      ],
      "text/plain": [
       "         user_id   streamer_name  time_spent\n",
       "0              1        mithrain          20\n",
       "1              1           alptv          30\n",
       "2              1        mithrain          10\n",
       "3              1            wtcn          20\n",
       "4              1       jrokezftw          30\n",
       "...          ...             ...         ...\n",
       "3051728   100000          mckytv          10\n",
       "3051729   100000        natehill          10\n",
       "3051730   100000        fortnite          20\n",
       "3051731   100000  highdistortion          20\n",
       "3051732   100000        symfuhny          20\n",
       "\n",
       "[3051002 rows x 3 columns]"
      ]
     },
     "execution_count": 13,
     "metadata": {},
     "output_type": "execute_result"
    }
   ],
   "source": [
    "# drop irrelevant features:\n",
    "df = df.drop(['stream_id','start_time','stop_time'], axis=1)\n",
    "df"
   ]
  },
  {
   "cell_type": "code",
   "execution_count": 14,
   "metadata": {},
   "outputs": [
    {
     "name": "stderr",
     "output_type": "stream",
     "text": [
      "/Users/garrettlam/miniconda3/envs/cse158/lib/python3.11/site-packages/seaborn/_oldcore.py:1498: FutureWarning: is_categorical_dtype is deprecated and will be removed in a future version. Use isinstance(dtype, CategoricalDtype) instead\n",
      "  if pd.api.types.is_categorical_dtype(vector):\n",
      "/Users/garrettlam/miniconda3/envs/cse158/lib/python3.11/site-packages/seaborn/_oldcore.py:1498: FutureWarning: is_categorical_dtype is deprecated and will be removed in a future version. Use isinstance(dtype, CategoricalDtype) instead\n",
      "  if pd.api.types.is_categorical_dtype(vector):\n",
      "/Users/garrettlam/miniconda3/envs/cse158/lib/python3.11/site-packages/seaborn/_oldcore.py:1498: FutureWarning: is_categorical_dtype is deprecated and will be removed in a future version. Use isinstance(dtype, CategoricalDtype) instead\n",
      "  if pd.api.types.is_categorical_dtype(vector):\n"
     ]
    },
    {
     "data": {
      "image/png": "[encoded data removed]",
      "text/plain": [
       "<Figure size 1200x800 with 1 Axes>"
      ]
     },
     "metadata": {},
     "output_type": "display_data"
    }
   ],
   "source": [
    "# Most popular streamers\n",
    "top_streamers = df['streamer_name'].value_counts().nlargest(15)\n",
    "\n",
    "# Plotting with Seaborn\n",
    "plt.figure(figsize=(12, 8))\n",
    "sns.barplot(x=top_streamers.index, y=top_streamers.values, palette='deep')\n",
    "plt.title('Top 15 Streamers')\n",
    "plt.xlabel('Streamer Name')\n",
    "plt.ylabel('Number of Views')\n",
    "plt.xticks(rotation=45, ha='right')\n",
    "plt.show()\n"
   ]
  },
  {
   "cell_type": "code",
   "execution_count": 15,
   "metadata": {},
   "outputs": [
    {
     "name": "stderr",
     "output_type": "stream",
     "text": [
      "/Users/garrettlam/miniconda3/envs/cse158/lib/python3.11/site-packages/seaborn/_oldcore.py:1498: FutureWarning: is_categorical_dtype is deprecated and will be removed in a future version. Use isinstance(dtype, CategoricalDtype) instead\n",
      "  if pd.api.types.is_categorical_dtype(vector):\n",
      "/Users/garrettlam/miniconda3/envs/cse158/lib/python3.11/site-packages/seaborn/_oldcore.py:1119: FutureWarning: use_inf_as_na option is deprecated and will be removed in a future version. Convert inf values to NaN before operating instead.\n",
      "  with pd.option_context('mode.use_inf_as_na', True):\n"
     ]
    },
    {
     "data": {
      "text/plain": [
       "Text(0.5, 0, 'Number of Unique Streamers')"
      ]
     },
     "execution_count": 15,
     "metadata": {},
     "output_type": "execute_result"
    },
    {
     "data": {
      "image/png": "[encoded data removed]",
      "text/plain": [
       "<Figure size 1000x600 with 1 Axes>"
      ]
     },
     "metadata": {},
     "output_type": "display_data"
    }
   ],
   "source": [
    "# Distribution of number of unique streamers watched by user\n",
    "unique_streamers_per_user = df.groupby('user_id')['streamer_name'].nunique()\n",
    "\n",
    "plt.figure(figsize=(10, 6))\n",
    "sns.histplot(unique_streamers_per_user, bins=156)\n",
    "plt.title('Distribution of Unique Streamers Watched per User')\n",
    "plt.xlabel('Number of Unique Streamers')"
   ]
  },
  {
   "cell_type": "code",
   "execution_count": 16,
   "metadata": {},
   "outputs": [
    {
     "data": {
      "text/plain": [
       "(156,\n",
       " streamer_name\n",
       " 5      9157\n",
       " 6      7394\n",
       " 4      7141\n",
       " 7      6206\n",
       " 8      5216\n",
       "        ... \n",
       " 148       1\n",
       " 145       1\n",
       " 131       1\n",
       " 197       1\n",
       " 184       1\n",
       " Name: count, Length: 156, dtype: int64)"
      ]
     },
     "execution_count": 16,
     "metadata": {},
     "output_type": "execute_result"
    }
   ],
   "source": [
    "unique_streamers_per_user.nunique(), unique_streamers_per_user.value_counts().sort_values(ascending=False)"
   ]
  },
  {
   "cell_type": "code",
   "execution_count": 17,
   "metadata": {},
   "outputs": [
    {
     "name": "stderr",
     "output_type": "stream",
     "text": [
      "/Users/garrettlam/miniconda3/envs/cse158/lib/python3.11/site-packages/seaborn/_oldcore.py:1498: FutureWarning: is_categorical_dtype is deprecated and will be removed in a future version. Use isinstance(dtype, CategoricalDtype) instead\n",
      "  if pd.api.types.is_categorical_dtype(vector):\n",
      "/Users/garrettlam/miniconda3/envs/cse158/lib/python3.11/site-packages/seaborn/_oldcore.py:1119: FutureWarning: use_inf_as_na option is deprecated and will be removed in a future version. Convert inf values to NaN before operating instead.\n",
      "  with pd.option_context('mode.use_inf_as_na', True):\n"
     ]
    },
    {
     "data": {
      "text/plain": [
       "Text(0.5, 0, 'Number of Times Watched')"
      ]
     },
     "execution_count": 17,
     "metadata": {},
     "output_type": "execute_result"
    },
    {
     "data": {
      "image/png": "[encoded data removed]",
      "text/plain": [
       "<Figure size 1000x600 with 1 Axes>"
      ]
     },
     "metadata": {},
     "output_type": "display_data"
    }
   ],
   "source": [
    "# Distribution of repeated user streamer interactions\n",
    "user_streamer_pairs_counts = df.groupby(['user_id', 'streamer_name']).size().reset_index(name='watch_count')\n",
    "\n",
    "# filter for repeated watches\n",
    "rewatched_pairs = user_streamer_pairs_counts[user_streamer_pairs_counts['watch_count'] > 1]\n",
    "\n",
    "plt.figure(figsize=(10, 6))\n",
    "sns.histplot(rewatched_pairs['watch_count'], bins=55)\n",
    "plt.title('Distribution of Repeated User-Streamer Interactions')\n",
    "plt.xlabel('Number of Times Watched')"
   ]
  },
  {
   "cell_type": "code",
   "execution_count": 18,
   "metadata": {},
   "outputs": [
    {
     "data": {
      "text/plain": [
       "(55,\n",
       " watch_count\n",
       " 2     234196\n",
       " 3     111210\n",
       " 4      64250\n",
       " 5      41576\n",
       " 6      27919\n",
       " 7      19368\n",
       " 8      13904\n",
       " 9       9912\n",
       " 10      7109\n",
       " 11      5241\n",
       " 12      3726\n",
       " 13      2635\n",
       " 14      1858\n",
       " 15      1341\n",
       " 16       952\n",
       " 17       644\n",
       " 18       480\n",
       " 19       341\n",
       " 20       257\n",
       " 21       185\n",
       " 22       148\n",
       " 23       113\n",
       " 24        75\n",
       " 25        68\n",
       " 26        55\n",
       " 27        41\n",
       " 28        39\n",
       " 31        24\n",
       " 29        24\n",
       " 30        21\n",
       " 33        12\n",
       " 32        11\n",
       " 37        10\n",
       " 36         7\n",
       " 34         6\n",
       " 35         6\n",
       " 39         6\n",
       " 38         6\n",
       " 40         5\n",
       " 41         5\n",
       " 47         4\n",
       " 42         3\n",
       " 44         3\n",
       " 62         2\n",
       " 50         2\n",
       " 52         2\n",
       " 63         2\n",
       " 45         2\n",
       " 78         1\n",
       " 48         1\n",
       " 92         1\n",
       " 82         1\n",
       " 90         1\n",
       " 59         1\n",
       " 61         1\n",
       " Name: count, dtype: int64)"
      ]
     },
     "execution_count": 18,
     "metadata": {},
     "output_type": "execute_result"
    }
   ],
   "source": [
    "rewatched_pairs['watch_count'].nunique(), rewatched_pairs['watch_count'].value_counts().sort_values(ascending=False)"
   ]
  },
  {
   "cell_type": "code",
   "execution_count": 19,
   "metadata": {},
   "outputs": [
    {
     "name": "stderr",
     "output_type": "stream",
     "text": [
      "/Users/garrettlam/miniconda3/envs/cse158/lib/python3.11/site-packages/seaborn/_oldcore.py:1498: FutureWarning: is_categorical_dtype is deprecated and will be removed in a future version. Use isinstance(dtype, CategoricalDtype) instead\n",
      "  if pd.api.types.is_categorical_dtype(vector):\n",
      "/Users/garrettlam/miniconda3/envs/cse158/lib/python3.11/site-packages/seaborn/_oldcore.py:1119: FutureWarning: use_inf_as_na option is deprecated and will be removed in a future version. Convert inf values to NaN before operating instead.\n",
      "  with pd.option_context('mode.use_inf_as_na', True):\n"
     ]
    },
    {
     "data": {
      "text/plain": [
       "Text(0.5, 0, 'Time Spent (minutes)')"
      ]
     },
     "execution_count": 19,
     "metadata": {},
     "output_type": "execute_result"
    },
    {
     "data": {
      "image/png": "[encoded data removed]",
      "text/plain": [
       "<Figure size 1000x600 with 1 Axes>"
      ]
     },
     "metadata": {},
     "output_type": "display_data"
    }
   ],
   "source": [
    "# distribution of time spent\n",
    "plt.figure(figsize=(10, 6))\n",
    "sns.histplot(df['time_spent'], bins=48)\n",
    "plt.title('Distribution of Time Spent Watching Streams')\n",
    "plt.xlabel('Time Spent (minutes)')"
   ]
  },
  {
   "cell_type": "code",
   "execution_count": 20,
   "metadata": {},
   "outputs": [
    {
     "data": {
      "text/plain": [
       "(48,\n",
       " time_spent\n",
       " 10     1559891\n",
       " 20      498252\n",
       " 30      263958\n",
       " 40      168944\n",
       " 50      115769\n",
       " 60       85323\n",
       " 70       64238\n",
       " 80       49751\n",
       " 90       40007\n",
       " 100      32180\n",
       " 110      26825\n",
       " 120      22509\n",
       " 130      18312\n",
       " 140      15173\n",
       " 150      12759\n",
       " 160      10884\n",
       " 170       9396\n",
       " 180       8149\n",
       " 190       6876\n",
       " 200       5834\n",
       " 210       4922\n",
       " 220       4384\n",
       " 230       3832\n",
       " 240       3292\n",
       " 250       2849\n",
       " 260       2276\n",
       " 270       1983\n",
       " 280       1740\n",
       " 290       1430\n",
       " 300       1308\n",
       " 310       1084\n",
       " 320        996\n",
       " 330        823\n",
       " 340        737\n",
       " 350        688\n",
       " 360        565\n",
       " 370        468\n",
       " 380        426\n",
       " 390        372\n",
       " 400        296\n",
       " 420        276\n",
       " 410        263\n",
       " 430        223\n",
       " 440        207\n",
       " 450        168\n",
       " 460        136\n",
       " 470        134\n",
       " 480         94\n",
       " Name: count, dtype: int64)"
      ]
     },
     "execution_count": 20,
     "metadata": {},
     "output_type": "execute_result"
    }
   ],
   "source": [
    "df['time_spent'].nunique(), df['time_spent'].value_counts()"
   ]
  },
  {
   "cell_type": "code",
   "execution_count": 21,
   "metadata": {},
   "outputs": [
    {
     "name": "stderr",
     "output_type": "stream",
     "text": [
      "/Users/garrettlam/miniconda3/envs/cse158/lib/python3.11/site-packages/seaborn/_oldcore.py:1498: FutureWarning: is_categorical_dtype is deprecated and will be removed in a future version. Use isinstance(dtype, CategoricalDtype) instead\n",
      "  if pd.api.types.is_categorical_dtype(vector):\n",
      "/Users/garrettlam/miniconda3/envs/cse158/lib/python3.11/site-packages/seaborn/_oldcore.py:1119: FutureWarning: use_inf_as_na option is deprecated and will be removed in a future version. Convert inf values to NaN before operating instead.\n",
      "  with pd.option_context('mode.use_inf_as_na', True):\n",
      "/Users/garrettlam/miniconda3/envs/cse158/lib/python3.11/site-packages/seaborn/_oldcore.py:1498: FutureWarning: is_categorical_dtype is deprecated and will be removed in a future version. Use isinstance(dtype, CategoricalDtype) instead\n",
      "  if pd.api.types.is_categorical_dtype(vector):\n",
      "/Users/garrettlam/miniconda3/envs/cse158/lib/python3.11/site-packages/seaborn/_oldcore.py:1498: FutureWarning: is_categorical_dtype is deprecated and will be removed in a future version. Use isinstance(dtype, CategoricalDtype) instead\n",
      "  if pd.api.types.is_categorical_dtype(vector):\n",
      "/Users/garrettlam/miniconda3/envs/cse158/lib/python3.11/site-packages/seaborn/_oldcore.py:1498: FutureWarning: is_categorical_dtype is deprecated and will be removed in a future version. Use isinstance(dtype, CategoricalDtype) instead\n",
      "  if pd.api.types.is_categorical_dtype(vector):\n",
      "/Users/garrettlam/miniconda3/envs/cse158/lib/python3.11/site-packages/seaborn/_oldcore.py:1498: FutureWarning: is_categorical_dtype is deprecated and will be removed in a future version. Use isinstance(dtype, CategoricalDtype) instead\n",
      "  if pd.api.types.is_categorical_dtype(vector):\n",
      "/Users/garrettlam/miniconda3/envs/cse158/lib/python3.11/site-packages/seaborn/_oldcore.py:1119: FutureWarning: use_inf_as_na option is deprecated and will be removed in a future version. Convert inf values to NaN before operating instead.\n",
      "  with pd.option_context('mode.use_inf_as_na', True):\n",
      "/Users/garrettlam/miniconda3/envs/cse158/lib/python3.11/site-packages/seaborn/_oldcore.py:1498: FutureWarning: is_categorical_dtype is deprecated and will be removed in a future version. Use isinstance(dtype, CategoricalDtype) instead\n",
      "  if pd.api.types.is_categorical_dtype(vector):\n",
      "/Users/garrettlam/miniconda3/envs/cse158/lib/python3.11/site-packages/seaborn/_oldcore.py:1119: FutureWarning: use_inf_as_na option is deprecated and will be removed in a future version. Convert inf values to NaN before operating instead.\n",
      "  with pd.option_context('mode.use_inf_as_na', True):\n"
     ]
    },
    {
     "data": {
      "image/png": "[encoded data removed]",
      "text/plain": [
       "<Figure size 1200x900 with 4 Axes>"
      ]
     },
     "metadata": {},
     "output_type": "display_data"
    }
   ],
   "source": [
    "# Top left: Distribution of time spent\n",
    "plt.figure(figsize=(12, 9))\n",
    "\n",
    "plt.subplot(2, 2, 1)\n",
    "sns.histplot(df['time_spent'], bins=48)\n",
    "plt.title('Distribution of Time Spent Watching Streams')\n",
    "plt.xlabel('Time Spent (minutes)')\n",
    "\n",
    "# Top right: Top 15 most popular streamers\n",
    "plt.subplot(2, 2, 2)\n",
    "sns.barplot(x=top_streamers.index, y=top_streamers.values, palette='deep')\n",
    "plt.title('Top 15 Streamers')\n",
    "plt.xlabel('Streamer Name')\n",
    "plt.ylabel('Number of Views')\n",
    "plt.xticks(rotation=45, ha='right')\n",
    "\n",
    "# Bottom left: Distribution of number of unique streamers watched by user\n",
    "plt.subplot(2, 2, 3)\n",
    "sns.histplot(unique_streamers_per_user, bins=156)\n",
    "plt.title('Distribution of Unique Streamers Watched per User')\n",
    "plt.xlabel('Number of Unique Streamers')\n",
    "\n",
    "# Bottom right: Distribution of repeated user streamer interactions\n",
    "plt.subplot(2, 2, 4)\n",
    "sns.histplot(rewatched_pairs['watch_count'], bins=55)\n",
    "plt.title('Distribution of Repeated User-Streamer Interactions')\n",
    "plt.xlabel('Number of Times Watched')\n",
    "\n",
    "# Adjust layout\n",
    "plt.tight_layout()\n",
    "\n",
    "#plt.savefig('eda_figs.png', dpi=500)"
   ]
  },
  {
   "cell_type": "code",
   "execution_count": 22,
   "metadata": {
    "scrolled": true
   },
   "outputs": [
    {
     "data": {
      "text/html": [
       "<div>\n",
       "<style scoped>\n",
       "    .dataframe tbody tr th:only-of-type {\n",
       "        vertical-align: middle;\n",
       "    }\n",
       "\n",
       "    .dataframe tbody tr th {\n",
       "        vertical-align: top;\n",
       "    }\n",
       "\n",
       "    .dataframe thead th {\n",
       "        text-align: right;\n",
       "    }\n",
       "</style>\n",
       "<table border=\"1\" class=\"dataframe\">\n",
       "  <thead>\n",
       "    <tr style=\"text-align: right;\">\n",
       "      <th></th>\n",
       "      <th>user_id</th>\n",
       "      <th>streamer_name</th>\n",
       "      <th>time_spent</th>\n",
       "    </tr>\n",
       "  </thead>\n",
       "  <tbody>\n",
       "    <tr>\n",
       "      <th>559707</th>\n",
       "      <td>18494</td>\n",
       "      <td>forsen</td>\n",
       "      <td>40</td>\n",
       "    </tr>\n",
       "    <tr>\n",
       "      <th>81219</th>\n",
       "      <td>2723</td>\n",
       "      <td>callofduty</td>\n",
       "      <td>10</td>\n",
       "    </tr>\n",
       "    <tr>\n",
       "      <th>301537</th>\n",
       "      <td>10197</td>\n",
       "      <td>elraenn</td>\n",
       "      <td>10</td>\n",
       "    </tr>\n",
       "    <tr>\n",
       "      <th>986344</th>\n",
       "      <td>32688</td>\n",
       "      <td>nubkeks</td>\n",
       "      <td>60</td>\n",
       "    </tr>\n",
       "    <tr>\n",
       "      <th>1660926</th>\n",
       "      <td>54764</td>\n",
       "      <td>mrbboy45</td>\n",
       "      <td>10</td>\n",
       "    </tr>\n",
       "    <tr>\n",
       "      <th>...</th>\n",
       "      <td>...</td>\n",
       "      <td>...</td>\n",
       "      <td>...</td>\n",
       "    </tr>\n",
       "    <tr>\n",
       "      <th>1693123</th>\n",
       "      <td>55868</td>\n",
       "      <td>wazztv_</td>\n",
       "      <td>10</td>\n",
       "    </tr>\n",
       "    <tr>\n",
       "      <th>2356878</th>\n",
       "      <td>77705</td>\n",
       "      <td>lol_madlife</td>\n",
       "      <td>70</td>\n",
       "    </tr>\n",
       "    <tr>\n",
       "      <th>2229595</th>\n",
       "      <td>73485</td>\n",
       "      <td>italiand0g</td>\n",
       "      <td>40</td>\n",
       "    </tr>\n",
       "    <tr>\n",
       "      <th>2768969</th>\n",
       "      <td>91071</td>\n",
       "      <td>gsl</td>\n",
       "      <td>50</td>\n",
       "    </tr>\n",
       "    <tr>\n",
       "      <th>2219615</th>\n",
       "      <td>73179</td>\n",
       "      <td>kaazy</td>\n",
       "      <td>10</td>\n",
       "    </tr>\n",
       "  </tbody>\n",
       "</table>\n",
       "<p>3051002 rows × 3 columns</p>\n",
       "</div>"
      ],
      "text/plain": [
       "         user_id streamer_name  time_spent\n",
       "559707     18494        forsen          40\n",
       "81219       2723    callofduty          10\n",
       "301537     10197       elraenn          10\n",
       "986344     32688       nubkeks          60\n",
       "1660926    54764      mrbboy45          10\n",
       "...          ...           ...         ...\n",
       "1693123    55868       wazztv_          10\n",
       "2356878    77705   lol_madlife          70\n",
       "2229595    73485    italiand0g          40\n",
       "2768969    91071           gsl          50\n",
       "2219615    73179         kaazy          10\n",
       "\n",
       "[3051002 rows x 3 columns]"
      ]
     },
     "execution_count": 22,
     "metadata": {},
     "output_type": "execute_result"
    }
   ],
   "source": [
    "# shuffle dataframe\n",
    "df = df.sample(frac=1, random_state=42)  \n",
    "df"
   ]
  },
  {
   "cell_type": "code",
   "execution_count": 23,
   "metadata": {},
   "outputs": [],
   "source": [
    "# convert df to list of json\n",
    "data = df.to_dict(orient='records')"
   ]
  },
  {
   "cell_type": "code",
   "execution_count": 24,
   "metadata": {},
   "outputs": [],
   "source": [
    "# Build basic data structures for WHOLE dataset:\n",
    "uniqueStreamers = set() \n",
    "watchedSet = set()\n",
    "streamerPerUser = defaultdict(set)\n",
    "usersPerStreamer = defaultdict(set)\n",
    "streamerViews = defaultdict(int)\n",
    "interactionCount = defaultdict(int)\n",
    "timeDict = {}\n",
    "userIDs,streamerIDs = {},{}\n",
    "\n",
    "for d in data:\n",
    "    user = d['user_id']\n",
    "    streamer = d['streamer_name']\n",
    "    if not user in userIDs: userIDs[user] = len(userIDs)\n",
    "    if not streamer in streamerIDs: streamerIDs[streamer] = len(streamerIDs)\n",
    "    uniqueStreamers.add(streamer)\n",
    "    watchedSet.add((user,streamer))\n",
    "    streamerPerUser[user].add(streamer)\n",
    "    usersPerStreamer[streamer].add(user)\n",
    "    streamerViews[streamer] += 1\n",
    "    interactionCount[(user,streamer)] += 1\n",
    "    timeDict[(user,streamer)] = d['time_spent']"
   ]
  },
  {
   "cell_type": "markdown",
   "metadata": {},
   "source": [
    "# Data Preparation"
   ]
  },
  {
   "cell_type": "code",
   "execution_count": 25,
   "metadata": {},
   "outputs": [],
   "source": [
    "# Split into training, validation, testing\n",
    "train, temp = train_test_split(data, test_size=0.3, random_state=123)\n",
    "valid, test = train_test_split(temp, test_size=0.5, random_state=123)"
   ]
  },
  {
   "cell_type": "code",
   "execution_count": 26,
   "metadata": {},
   "outputs": [
    {
     "data": {
      "text/plain": [
       "(3051002, 915301, 457650, 457651)"
      ]
     },
     "execution_count": 26,
     "metadata": {},
     "output_type": "execute_result"
    }
   ],
   "source": [
    "len(data), len(temp), len(valid), len(test)"
   ]
  },
  {
   "cell_type": "code",
   "execution_count": 27,
   "metadata": {
    "scrolled": true
   },
   "outputs": [
    {
     "data": {
      "text/plain": [
       "(3051002, 3051002)"
      ]
     },
     "execution_count": 27,
     "metadata": {},
     "output_type": "execute_result"
    }
   ],
   "source": [
    "len(data), len(train) + len(valid) + len(test)"
   ]
  },
  {
   "cell_type": "code",
   "execution_count": 28,
   "metadata": {},
   "outputs": [],
   "source": [
    "## Generate negative samples for validation set\n",
    "watchedValid = set()\n",
    "for d in valid:\n",
    "    watchedValid.add((d['user_id'],d['streamer_name']))\n",
    "\n",
    "notWatchedValid = set()\n",
    "for d in valid:\n",
    "    u = d['user_id']\n",
    "    s = random.choice(list(uniqueStreamers))\n",
    "    while (u,s) in watchedSet or (u,s) in notWatchedValid:\n",
    "        s = random.choice(list(uniqueStreamers))\n",
    "    notWatchedValid.add((u,s))"
   ]
  },
  {
   "cell_type": "code",
   "execution_count": 29,
   "metadata": {},
   "outputs": [],
   "source": [
    "## Generate negative samples for testing set\n",
    "watchedTest = set()\n",
    "for d in test:\n",
    "    watchedTest.add((d['user_id'],d['streamer_name']))\n",
    "\n",
    "notWatchedTest = set()\n",
    "for d in test:\n",
    "    u = d['user_id']\n",
    "    s = random.choice(list(uniqueStreamers))\n",
    "    while (u,s) in watchedSet or (u,s) in notWatchedTest:\n",
    "        s = random.choice(list(uniqueStreamers))\n",
    "    notWatchedTest.add((u,s))"
   ]
  },
  {
   "cell_type": "code",
   "execution_count": 30,
   "metadata": {},
   "outputs": [],
   "source": [
    "# Build basic data structures for TRAINING dataset:\n",
    "streamerPerUserTrain = defaultdict(set)\n",
    "usersPerStreamerTrain = defaultdict(set)\n",
    "streamerViewsTrain = defaultdict(int)\n",
    "interactionCountTrain = defaultdict(int)\n",
    "timeDictTrain = {}\n",
    "\n",
    "for d in train:\n",
    "    user = d['user_id']\n",
    "    streamer = d['streamer_name']\n",
    "    streamerPerUserTrain[user].add(streamer)\n",
    "    usersPerStreamerTrain[streamer].add(user)\n",
    "    streamerViewsTrain[streamer] += 1\n",
    "    interactionCountTrain[(user,streamer)] += 1\n",
    "    timeDictTrain[(user,streamer)] = d['time_spent']\n",
    "\n",
    "# streamerPerUser = defaultdict(set)\n",
    "# usersPerStreamer = defaultdict(set)\n",
    "# streamerPopularity = defaultdict(int)\n",
    "# timeDict = {}\n",
    "\n",
    "# for index, row in train.iterrows():\n",
    "#     user = row['user_id']\n",
    "#     streamer = row['streamer name']\n",
    "#     time = row['time spent']\n",
    "#     streamerPerUser[user].add(streamer)\n",
    "#     usersPerStreamer[streamer].add(user)\n",
    "#     streamerPopularity[streamer] += 1\n",
    "#     timeDict[(user,streamer)] = time"
   ]
  },
  {
   "cell_type": "code",
   "execution_count": 31,
   "metadata": {},
   "outputs": [],
   "source": [
    "# def plot_roc_curve(true_y, y_prob, title):\n",
    "#     fpr, tpr, thresholds = roc_curve(true_y, y_prob)\n",
    "#     auc = round(roc_auc_score(true_y, y_prob), 4)\n",
    "#     plt.plot(fpr, tpr, label=f'{title} AUC = {auc:.2f}')\n",
    "#     plt.legend()\n",
    "#     plt.xlabel('False Positive Rate')\n",
    "#     plt.ylabel('True Positive Rate')"
   ]
  },
  {
   "cell_type": "code",
   "execution_count": 32,
   "metadata": {},
   "outputs": [],
   "source": [
    "yTest = [1 for _ in watchedTest] +[0 for _ in notWatchedTest] # for auc"
   ]
  },
  {
   "cell_type": "markdown",
   "metadata": {},
   "source": [
    "# Models"
   ]
  },
  {
   "cell_type": "markdown",
   "metadata": {},
   "source": [
    "### Popularity"
   ]
  },
  {
   "cell_type": "code",
   "execution_count": 33,
   "metadata": {},
   "outputs": [
    {
     "data": {
      "text/plain": [
       "(0.8764128412841284, 339915)"
      ]
     },
     "execution_count": 33,
     "metadata": {},
     "output_type": "execute_result"
    }
   ],
   "source": [
    "# Popularity accuracy (VALIDATION DATA)\n",
    "correct = 0\n",
    "p1 = 0\n",
    "\n",
    "for (label,sample) in [(1, watchedValid), (0, notWatchedValid)]: \n",
    "    for (u,s) in sample:\n",
    "        pred = 0\n",
    "        if len(usersPerStreamerTrain[s]) > 10: \n",
    "            pred = 1\n",
    "            p1+= 1\n",
    "        if pred == label:\n",
    "            correct += 1\n",
    "\n",
    "pop_accValid = correct / (len(watchedValid) + len(notWatchedValid)) \n",
    "pop_accValid , p1"
   ]
  },
  {
   "cell_type": "code",
   "execution_count": 34,
   "metadata": {},
   "outputs": [
    {
     "data": {
      "text/plain": [
       "(0.8769300930093009, 339713)"
      ]
     },
     "execution_count": 34,
     "metadata": {},
     "output_type": "execute_result"
    }
   ],
   "source": [
    "# Popularity accuracy (TEST DATA)\n",
    "correct = 0\n",
    "p1 = 0\n",
    "popLabels = []\n",
    "for (label,sample) in [(1, watchedTest), (0, notWatchedTest)]: \n",
    "    for (u,s) in sample:\n",
    "        pred = 0\n",
    "        if len(usersPerStreamerTrain[s]) > 10: \n",
    "            pred = 1\n",
    "            p1+= 1\n",
    "        if pred == label:\n",
    "            correct += 1\n",
    "        popLabels.append(pred)\n",
    "        \n",
    "pop_accTest = correct / (len(watchedValid) + len(notWatchedValid)) \n",
    "pop_accTest , p1"
   ]
  },
  {
   "cell_type": "code",
   "execution_count": 65,
   "metadata": {},
   "outputs": [
    {
     "data": {
      "text/plain": [
       "0.8716"
      ]
     },
     "execution_count": 65,
     "metadata": {},
     "output_type": "execute_result"
    }
   ],
   "source": [
    "# Popularity AUC\n",
    "pop_AUC = round(roc_auc_score(yTest, popLabels), 4)\n",
    "pop_AUC"
   ]
  },
  {
   "cell_type": "markdown",
   "metadata": {},
   "source": [
    "### Jaccard + Popularity"
   ]
  },
  {
   "cell_type": "code",
   "execution_count": 36,
   "metadata": {},
   "outputs": [],
   "source": [
    "def Jaccard(s1, s2):\n",
    "    numer = len(s1.intersection(s2))\n",
    "    denom = len(s1.union(s2))\n",
    "    if denom == 0:\n",
    "        return 0\n",
    "    return numer / denom"
   ]
  },
  {
   "cell_type": "code",
   "execution_count": 37,
   "metadata": {},
   "outputs": [],
   "source": [
    "# # Jaccard only\n",
    "# correct = 0\n",
    "# p1 = 0\n",
    "# jaccardLabels = []\n",
    "\n",
    "# for (label,sample) in [(1, watchedValid), (0, notWatchedValid)]: \n",
    "#     for (u,s) in sample:\n",
    "#         maxSim = float('-inf')\n",
    "#         users = usersPerStreamerTrain[s]\n",
    "#         pred = 0\n",
    "\n",
    "#         for s2 in streamerPerUserTrain[u]:\n",
    "#             sim = Jaccard(users,usersPerStreamerTrain[s2])\n",
    "#             if sim == 1:\n",
    "#                 maxSim = sim\n",
    "#                 break\n",
    "#             if sim > maxSim:\n",
    "#                 maxSim = sim\n",
    "#         if maxSim > 0.058:\n",
    "#             pred = 1\n",
    "#             p1 += 1\n",
    "#         if maxSim == float('-inf'):\n",
    "#             jaccardLabels.append(0)\n",
    "#             continue\n",
    "#         if pred == label:\n",
    "#             correct += 1\n",
    "#         jaccardLabels.append(pred)\n",
    "        \n",
    "# correct / (len(watchedValid) + len(notWatchedValid)) , p1"
   ]
  },
  {
   "cell_type": "code",
   "execution_count": 38,
   "metadata": {},
   "outputs": [],
   "source": [
    "# # Jaccard + Popularity\n",
    "# correct = 0\n",
    "# p1 = 0\n",
    "# predLabels = []\n",
    "# for (label,sample) in [(1, watchedValid), (0, notWatchedValid)]: \n",
    "#     for (u,s) in sample:\n",
    "#         maxSim = float('-inf')\n",
    "#         users = usersPerStreamerTrain[s]\n",
    "#         pred = 0\n",
    "\n",
    "#         # cold-start user, just consider popularity of stream\n",
    "#         if u not in streamerPerUserTrain:\n",
    "#             if len(usersPerStreamerTrain[s]) > 10:\n",
    "#                 pred = 1\n",
    "#                 p1 += 1\n",
    "#             predLabels.append(pred)\n",
    "#         # user has been seen before\n",
    "#         else:\n",
    "#             for s2 in streamerPerUserTrain[u]:\n",
    "#                 sim = Jaccard(users,usersPerStreamerTrain[s2])\n",
    "#                 if sim == 1:\n",
    "#                     maxSim = sim\n",
    "#                     break\n",
    "#                 if sim > maxSim:\n",
    "#                     maxSim = sim\n",
    "#             if maxSim > 0.058 or len(usersPerStreamerTrain[s]) > 10:\n",
    "#                 pred = 1\n",
    "#                 p1 += 1\n",
    "#         if maxSim == float('-inf') and pred == 0:\n",
    "#             predLabels.append(0)\n",
    "#             continue\n",
    "#         if pred == label:\n",
    "#             correct += 1\n",
    "#         predLabels.append(pred)\n",
    "\n",
    "# correct / (len(watchedValid) + len(notWatchedValid)) , p1"
   ]
  },
  {
   "cell_type": "code",
   "execution_count": 39,
   "metadata": {},
   "outputs": [
    {
     "data": {
      "text/plain": [
       "(0.9191491149114911, 376471)"
      ]
     },
     "execution_count": 39,
     "metadata": {},
     "output_type": "execute_result"
    }
   ],
   "source": [
    "# Jaccard + Popularity accuracy (VALIDATION DATA)\n",
    "correct = 0\n",
    "p1 = 0\n",
    "for (label,sample) in [(1, watchedValid), (0, notWatchedValid)]: \n",
    "    for (u,s) in sample:\n",
    "        maxSim = float('-inf')\n",
    "        users = usersPerStreamerTrain[s]\n",
    "        pred = 0\n",
    "\n",
    "        # cold-start user, just consider popularity of stream\n",
    "        if u not in streamerPerUserTrain:\n",
    "            if len(usersPerStreamerTrain[s]) > 10:\n",
    "                pred = 1\n",
    "                p1 += 1\n",
    "        # user has been seen before\n",
    "        else:\n",
    "            for s2 in streamerPerUserTrain[u]:\n",
    "                sim = Jaccard(users,usersPerStreamerTrain[s2])\n",
    "                if sim == 1:\n",
    "                    maxSim = sim\n",
    "                    break\n",
    "                if sim > maxSim:\n",
    "                    maxSim = sim\n",
    "            if maxSim > 0.058 or len(usersPerStreamerTrain[s]) > 10:\n",
    "                pred = 1\n",
    "                p1 += 1\n",
    "        \n",
    "        if pred == label:\n",
    "            correct += 1\n",
    "\n",
    "jaccardPop_accValid = correct / (len(watchedValid) + len(notWatchedValid)) \n",
    "jaccardPop_accValid , p1"
   ]
  },
  {
   "cell_type": "code",
   "execution_count": 40,
   "metadata": {},
   "outputs": [
    {
     "data": {
      "text/plain": [
       "(0.9192201459885557, 375762)"
      ]
     },
     "execution_count": 40,
     "metadata": {},
     "output_type": "execute_result"
    }
   ],
   "source": [
    "# Jaccard + Popularity accuracy (TEST DATA)\n",
    "correct = 0\n",
    "p1 = 0\n",
    "jaccardPopLabels = []\n",
    "\n",
    "for (label,sample) in [(1, watchedTest), (0, notWatchedTest)]: \n",
    "    for (u,s) in sample:\n",
    "        maxSim = float('-inf')\n",
    "        users = usersPerStreamerTrain[s]\n",
    "        pred = 0\n",
    "\n",
    "        # cold-start user, just consider popularity of stream\n",
    "        if u not in streamerPerUserTrain:\n",
    "            if len(usersPerStreamerTrain[s]) > 10:\n",
    "                pred = 1\n",
    "                p1 += 1\n",
    "        # user has been seen before\n",
    "        else:\n",
    "            for s2 in streamerPerUserTrain[u]:\n",
    "                sim = Jaccard(users,usersPerStreamerTrain[s2])\n",
    "                if sim == 1:\n",
    "                    maxSim = sim\n",
    "                    break\n",
    "                if sim > maxSim:\n",
    "                    maxSim = sim\n",
    "            if maxSim > 0.058 or len(usersPerStreamerTrain[s]) > 10:\n",
    "                pred = 1\n",
    "                p1 += 1\n",
    "        \n",
    "        if pred == label:\n",
    "            correct += 1\n",
    "        jaccardPopLabels.append(pred)\n",
    "\n",
    "jaccardPop_accTest = correct / (len(watchedTest) + len(notWatchedTest)) \n",
    "jaccardPop_accTest , p1"
   ]
  },
  {
   "cell_type": "code",
   "execution_count": 66,
   "metadata": {},
   "outputs": [
    {
     "data": {
      "text/plain": [
       "0.9185"
      ]
     },
     "execution_count": 66,
     "metadata": {},
     "output_type": "execute_result"
    }
   ],
   "source": [
    "# JaccardPop AUC\n",
    "jaccardPop_AUC = round(roc_auc_score(yTest, jaccardPopLabels), 4)\n",
    "jaccardPop_AUC"
   ]
  },
  {
   "cell_type": "markdown",
   "metadata": {},
   "source": [
    "### Cosine"
   ]
  },
  {
   "cell_type": "code",
   "execution_count": 42,
   "metadata": {},
   "outputs": [],
   "source": [
    "def CosineSet(s1, s2):\n",
    "    # Not a proper implementation, operates on sets so correct for interactions only\n",
    "    numer = len(s1.intersection(s2))\n",
    "    denom = math.sqrt(len(s1)) * math.sqrt(len(s2))\n",
    "    if denom == 0:\n",
    "        return 0\n",
    "    return numer / denom"
   ]
  },
  {
   "cell_type": "code",
   "execution_count": 43,
   "metadata": {
    "scrolled": true
   },
   "outputs": [],
   "source": [
    "# # Cosine Only\n",
    "# correct = 0\n",
    "# p1 = 0\n",
    "# cosineLabels = []\n",
    "# for (label,sample) in [(1, watchedValid), (0, notWatchedValid)]: \n",
    "#     for (u,s) in sample:\n",
    "#         maxSim = float('-inf')\n",
    "#         users = usersPerStreamerTrain[s]\n",
    "#         pred = 0\n",
    "\n",
    "#         for s2 in streamerPerUserTrain[u]:\n",
    "#             sim = CosineSet(users,usersPerStreamerTrain[s2])\n",
    "#             if sim > maxSim:\n",
    "#                 maxSim = sim\n",
    "#             if maxSim >= 0.9999:\n",
    "#                 break\n",
    "#         if maxSim > 0.1:\n",
    "#             pred = 1\n",
    "#             p1 += 1\n",
    "#         if maxSim == float('-inf'):\n",
    "#             cosineLabels.append(pred)\n",
    "#             continue\n",
    "#         if pred == label:\n",
    "#             correct += 1\n",
    "#         cosineLabels.append(pred)\n",
    "\n",
    "# correct / (len(watchedValid) + len(notWatchedValid)) , p1"
   ]
  },
  {
   "cell_type": "code",
   "execution_count": 44,
   "metadata": {},
   "outputs": [
    {
     "data": {
      "text/plain": [
       "(0.921046504650465, 380236)"
      ]
     },
     "execution_count": 44,
     "metadata": {},
     "output_type": "execute_result"
    }
   ],
   "source": [
    "# Cosine + Popularity accuracy (VALIDATION DATA)\n",
    "correct = 0\n",
    "p1 = 0\n",
    "for (label,sample) in [(1, watchedValid), (0, notWatchedValid)]: \n",
    "    for (u,s) in sample:\n",
    "        maxSim = float('-inf')\n",
    "        users = usersPerStreamerTrain[s]\n",
    "        pred = 0\n",
    "\n",
    "        # cold-start user, just consider popularity of stream\n",
    "        if u not in streamerPerUserTrain:\n",
    "            if len(usersPerStreamerTrain[s]) > 10:\n",
    "                pred = 1\n",
    "                p1 += 1\n",
    "        # user has been seen before\n",
    "        else:\n",
    "            for s2 in streamerPerUserTrain[u]:\n",
    "                sim = CosineSet(users,usersPerStreamerTrain[s2])\n",
    "                if sim > maxSim:\n",
    "                    maxSim = sim\n",
    "                if maxSim >= 0.9999:\n",
    "                    break\n",
    "            if maxSim > 0.1 or len(usersPerStreamerTrain[s]) > 10:\n",
    "                pred = 1\n",
    "                p1 += 1\n",
    "        \n",
    "        if pred == label:\n",
    "            correct += 1\n",
    "\n",
    "cosinePop_accValid = correct / (len(watchedValid) + len(notWatchedValid)) \n",
    "cosinePop_accValid , p1"
   ]
  },
  {
   "cell_type": "code",
   "execution_count": 45,
   "metadata": {},
   "outputs": [
    {
     "data": {
      "text/plain": [
       "(0.921068710170344, 379510)"
      ]
     },
     "execution_count": 45,
     "metadata": {},
     "output_type": "execute_result"
    }
   ],
   "source": [
    "# Cosine + Popularity accuracy (TEST DATA)\n",
    "correct = 0\n",
    "p1 = 0\n",
    "cosinePopLabels = []\n",
    "for (label,sample) in [(1, watchedTest), (0, notWatchedTest)]: \n",
    "    for (u,s) in sample:\n",
    "        maxSim = float('-inf')\n",
    "        users = usersPerStreamerTrain[s]\n",
    "        pred = 0\n",
    "\n",
    "        # cold-start user, just consider popularity of stream\n",
    "        if u not in streamerPerUserTrain:\n",
    "            if len(usersPerStreamerTrain[s]) > 10:\n",
    "                pred = 1\n",
    "                p1 += 1\n",
    "        # user has been seen before\n",
    "        else:\n",
    "            for s2 in streamerPerUserTrain[u]:\n",
    "                sim = CosineSet(users,usersPerStreamerTrain[s2])\n",
    "                if sim > maxSim:\n",
    "                    maxSim = sim\n",
    "                if maxSim >= 0.9999:\n",
    "                    break\n",
    "            if maxSim > 0.1 or len(usersPerStreamerTrain[s]) > 10:\n",
    "                pred = 1\n",
    "                p1 += 1\n",
    "        \n",
    "        if pred == label:\n",
    "            correct += 1\n",
    "        cosinePopLabels.append(pred)\n",
    "\n",
    "cosinePop_accTest = correct / (len(watchedTest) + len(notWatchedTest)) \n",
    "cosinePop_accTest , p1"
   ]
  },
  {
   "cell_type": "code",
   "execution_count": 67,
   "metadata": {},
   "outputs": [
    {
     "data": {
      "text/plain": [
       "0.9208"
      ]
     },
     "execution_count": 67,
     "metadata": {},
     "output_type": "execute_result"
    }
   ],
   "source": [
    "# CosinePop AUC\n",
    "cosinePop_AUC = round(roc_auc_score(yTest, cosinePopLabels), 4)\n",
    "cosinePop_AUC"
   ]
  },
  {
   "cell_type": "markdown",
   "metadata": {},
   "source": [
    "### All ROC Curves"
   ]
  },
  {
   "cell_type": "code",
   "execution_count": 47,
   "metadata": {},
   "outputs": [],
   "source": [
    "# fpr, tpr, _ = roc_curve(y, cosineLabels)\n",
    "# auc = round(roc_auc_score(y, cosineLabels), 4)\n",
    "# plt.plot(fpr,tpr,label=\"Cosine, AUC=\"+str(auc))\n",
    "\n",
    "# fpr, tpr, _ = roc_curve(y, predLabels)\n",
    "# auc = round(roc_auc_score(y, predLabels), 4)\n",
    "# plt.plot(fpr,tpr,label=\"Jaccard + Popularity, AUC=\"+str(auc))\n",
    "\n",
    "# fpr, tpr, _ = roc_curve(y, jaccardLabels)\n",
    "# auc = round(roc_auc_score(y, jaccardLabels), 4)\n",
    "# plt.plot(fpr,tpr,label=\"Jaccard, AUC=\"+str(auc))\n",
    "\n",
    "# fpr, tpr, _ = roc_curve(y, popularityLabels)\n",
    "# auc = round(roc_auc_score(y, popularityLabels), 4)\n",
    "# plt.plot(fpr,tpr,label=\"Popularity, AUC=\"+str(auc))\n",
    "\n",
    "# plt.legend()\n",
    "# plt.xlabel('False Positive Rate')\n",
    "# plt.ylabel('True Positive Rate')"
   ]
  },
  {
   "cell_type": "markdown",
   "metadata": {},
   "source": [
    "### BPR (TF)"
   ]
  },
  {
   "cell_type": "code",
   "execution_count": 48,
   "metadata": {},
   "outputs": [],
   "source": [
    "# add all user-streamer pair for BPR\n",
    "watchedAll = set()\n",
    "for d in data:\n",
    "    watchedAll.add((d['user_id'],d['streamer_name']))"
   ]
  },
  {
   "cell_type": "code",
   "execution_count": 49,
   "metadata": {},
   "outputs": [],
   "source": [
    "userIDsAll,streamer_nameIDsAll = {},{} \n",
    "for u,s in watchedAll:\n",
    "    if not u in userIDsAll: userIDsAll[u] = len(userIDsAll)\n",
    "    if not s in streamer_nameIDsAll: streamer_nameIDsAll[s] = len(streamer_nameIDsAll)"
   ]
  },
  {
   "cell_type": "code",
   "execution_count": 50,
   "metadata": {
    "scrolled": true
   },
   "outputs": [],
   "source": [
    "class BPRbatch(tf.keras.Model):\n",
    "    def __init__(self, K, lamb):\n",
    "        super(BPRbatch, self).__init__()\n",
    "        # Initialize variables\n",
    "        self.betaI = tf.Variable(tf.random.normal([len(streamer_nameIDsAll)],stddev=0.001))\n",
    "        self.gammaU = tf.Variable(tf.random.normal([len(userIDsAll),K],stddev=0.001))\n",
    "        self.gammaI = tf.Variable(tf.random.normal([len(streamer_nameIDsAll),K],stddev=0.001))\n",
    "        # Regularization coefficient\n",
    "        self.lamb = lamb\n",
    "\n",
    "    # Prediction for a single instance\n",
    "    def predict(self, u, i):\n",
    "        p = self.betaI[i] + tf.tensordot(self.gammaU[u], self.gammaI[i], 1)\n",
    "        return p\n",
    "\n",
    "    # Regularizer\n",
    "    def reg(self):\n",
    "        return self.lamb * (tf.nn.l2_loss(self.betaI) +\\\n",
    "                            tf.nn.l2_loss(self.gammaU) +\\\n",
    "                            tf.nn.l2_loss(self.gammaI))\n",
    "    \n",
    "    def score(self, sampleU, sampleI):\n",
    "        u = tf.convert_to_tensor(sampleU, dtype=tf.int32)\n",
    "        i = tf.convert_to_tensor(sampleI, dtype=tf.int32)\n",
    "        beta_i = tf.nn.embedding_lookup(self.betaI, i)\n",
    "        gamma_u = tf.nn.embedding_lookup(self.gammaU, u)\n",
    "        gamma_i = tf.nn.embedding_lookup(self.gammaI, i)\n",
    "        x_ui = beta_i + tf.reduce_sum(tf.multiply(gamma_u, gamma_i), 1)\n",
    "        return x_ui\n",
    "\n",
    "    def call(self, sampleU, sampleI, sampleJ):\n",
    "        x_ui = self.score(sampleU, sampleI)\n",
    "        x_uj = self.score(sampleU, sampleJ)\n",
    "        return -tf.reduce_mean(tf.math.log(tf.math.sigmoid(x_ui - x_uj)))"
   ]
  },
  {
   "cell_type": "code",
   "execution_count": 51,
   "metadata": {},
   "outputs": [],
   "source": [
    "optimizer = tf.keras.optimizers.legacy.Adam(0.1)"
   ]
  },
  {
   "cell_type": "code",
   "execution_count": 52,
   "metadata": {},
   "outputs": [],
   "source": [
    "def trainingStepBPR(model, interactions):\n",
    "    Nsamples = 50000\n",
    "    with tf.GradientTape() as tape:\n",
    "        sampleU, sampleI, sampleJ = [], [], []\n",
    "        for _ in range(Nsamples):\n",
    "            u,i = random.choice(interactions) # positive sample (watchedAll)\n",
    "            j = random.choice(list(uniqueStreamers)) # negative sample\n",
    "            while j in streamerPerUserTrain[u]:\n",
    "                j = random.choice(list(uniqueStreamers))\n",
    "            sampleU.append(userIDsAll[u])\n",
    "            sampleI.append(streamer_nameIDsAll[i])\n",
    "            sampleJ.append(streamer_nameIDsAll[j])\n",
    "            \n",
    "        loss = model(sampleU,sampleI,sampleJ)\n",
    "        loss += model.reg()\n",
    "    gradients = tape.gradient(loss, model.trainable_variables)\n",
    "    optimizer.apply_gradients((grad, var) for\n",
    "                              (grad, var) in zip(gradients, model.trainable_variables)\n",
    "                              if grad is not None)\n",
    "    return loss.numpy()"
   ]
  },
  {
   "cell_type": "code",
   "execution_count": 53,
   "metadata": {},
   "outputs": [
    {
     "data": {
      "text/plain": [
       "(162624, 162624)"
      ]
     },
     "execution_count": 53,
     "metadata": {},
     "output_type": "execute_result"
    }
   ],
   "source": [
    "len(uniqueStreamers), len(streamer_nameIDsAll)"
   ]
  },
  {
   "cell_type": "code",
   "execution_count": 54,
   "metadata": {
    "scrolled": true
   },
   "outputs": [
    {
     "name": "stdout",
     "output_type": "stream",
     "text": [
      "iteration 10, objective = 0.49530753\n",
      "iteration 20, objective = 0.42051244\n",
      "iteration 30, objective = 0.39469722\n",
      "iteration 40, objective = 0.39039168\n",
      "iteration 50, objective = 0.3844525\n",
      "iteration 60, objective = 0.38438562\n",
      "iteration 70, objective = 0.38211763\n",
      "iteration 80, objective = 0.38331312\n",
      "iteration 90, objective = 0.3799654\n",
      "iteration 100, objective = 0.38110667\n",
      "iteration 110, objective = 0.38125408\n"
     ]
    }
   ],
   "source": [
    "# Training BPR model\n",
    "modelBPR = BPRbatch(3, 0.00001)\n",
    "for i in range(110):\n",
    "    obj = trainingStepBPR(modelBPR, list(watchedAll))\n",
    "    if (i % 10 == 9): print(\"iteration \" + str(i+1) + \", objective = \" + str(obj))"
   ]
  },
  {
   "cell_type": "code",
   "execution_count": 55,
   "metadata": {},
   "outputs": [
    {
     "data": {
      "text/plain": [
       "0.8721560156015602"
      ]
     },
     "execution_count": 55,
     "metadata": {},
     "output_type": "execute_result"
    }
   ],
   "source": [
    "# BPR model accuracy (VALIDATION DATA)\n",
    "nUserStreamers = 0\n",
    "p1 = 0\n",
    "correct = 0\n",
    "for (label,sample) in [(1, watchedValid), (0, notWatchedValid)]:\n",
    "    for (u,s) in sample:\n",
    "        nUserStreamers +=1\n",
    "        pred = 0\n",
    "\n",
    "        # cold-start user, just consider popularity of stream\n",
    "        if u not in streamerPerUserTrain:\n",
    "            if len(usersPerStreamerTrain[s]) > 10:\n",
    "                pred = 1\n",
    "                p1 += 1\n",
    "        # user seen\n",
    "        else:\n",
    "            rank = modelBPR.predict(userIDsAll[u], streamer_nameIDsAll[s]).numpy()\n",
    "            if rank > 0.3:\n",
    "                pred = 1\n",
    "                p1 +=1 \n",
    "        if pred == label:\n",
    "            correct += 1\n",
    "\n",
    "bpr_accValid = correct / (len(watchedValid) + len(notWatchedValid))\n",
    "bpr_accValid"
   ]
  },
  {
   "cell_type": "code",
   "execution_count": 56,
   "metadata": {},
   "outputs": [
    {
     "data": {
      "text/plain": [
       "(334574, 498676, 833250)"
      ]
     },
     "execution_count": 56,
     "metadata": {},
     "output_type": "execute_result"
    }
   ],
   "source": [
    "p1, nUserStreamers - p1, nUserStreamers "
   ]
  },
  {
   "cell_type": "code",
   "execution_count": 57,
   "metadata": {},
   "outputs": [
    {
     "data": {
      "text/plain": [
       "0.872902809937593"
      ]
     },
     "execution_count": 57,
     "metadata": {},
     "output_type": "execute_result"
    }
   ],
   "source": [
    "# BPR model accuracy (TEST DATA)\n",
    "nUserStreamers = 0\n",
    "p1 = 0\n",
    "correct = 0\n",
    "\n",
    "bprLabels = []\n",
    "\n",
    "for (label,sample) in [(1, watchedTest), (0, notWatchedTest)]:\n",
    "    for (u,s) in sample:\n",
    "        nUserStreamers +=1\n",
    "        pred = 0\n",
    "\n",
    "        # cold-start user, just consider popularity of stream\n",
    "        if u not in streamerPerUserTrain:\n",
    "            if len(usersPerStreamerTrain[s]) > 10:\n",
    "                pred = 1\n",
    "                p1 += 1\n",
    "        # user seen\n",
    "        else:\n",
    "            rank = modelBPR.predict(userIDsAll[u], streamer_nameIDsAll[s]).numpy()\n",
    "            if rank > 0.3:\n",
    "                pred = 1\n",
    "                p1 +=1 \n",
    "        if pred == label:\n",
    "            correct += 1\n",
    "        bprLabels.append(pred)\n",
    "\n",
    "bpr_accTest = correct / (len(watchedTest) + len(notWatchedTest))\n",
    "bpr_accTest"
   ]
  },
  {
   "cell_type": "code",
   "execution_count": 58,
   "metadata": {},
   "outputs": [
    {
     "data": {
      "text/plain": [
       "(334506, 498573, 833079)"
      ]
     },
     "execution_count": 58,
     "metadata": {},
     "output_type": "execute_result"
    }
   ],
   "source": [
    "p1, nUserStreamers - p1, nUserStreamers "
   ]
  },
  {
   "cell_type": "code",
   "execution_count": 64,
   "metadata": {},
   "outputs": [
    {
     "data": {
      "text/plain": [
       "0.8668"
      ]
     },
     "execution_count": 64,
     "metadata": {},
     "output_type": "execute_result"
    }
   ],
   "source": [
    "# BPR AUC\n",
    "bpr_AUC = round(roc_auc_score(yTest, bprLabels), 4)\n",
    "bpr_AUC"
   ]
  },
  {
   "cell_type": "code",
   "execution_count": 68,
   "metadata": {},
   "outputs": [
    {
     "data": {
      "text/html": [
       "<div>\n",
       "<style scoped>\n",
       "    .dataframe tbody tr th:only-of-type {\n",
       "        vertical-align: middle;\n",
       "    }\n",
       "\n",
       "    .dataframe tbody tr th {\n",
       "        vertical-align: top;\n",
       "    }\n",
       "\n",
       "    .dataframe thead th {\n",
       "        text-align: right;\n",
       "    }\n",
       "</style>\n",
       "<table border=\"1\" class=\"dataframe\">\n",
       "  <thead>\n",
       "    <tr style=\"text-align: right;\">\n",
       "      <th></th>\n",
       "      <th>Accuracy (valid)</th>\n",
       "      <th>Accuracy (test)</th>\n",
       "      <th>AUC</th>\n",
       "    </tr>\n",
       "  </thead>\n",
       "  <tbody>\n",
       "    <tr>\n",
       "      <th>Popularity</th>\n",
       "      <td>0.876413</td>\n",
       "      <td>0.876930</td>\n",
       "      <td>0.8716</td>\n",
       "    </tr>\n",
       "    <tr>\n",
       "      <th>Jaccard + Popularity</th>\n",
       "      <td>0.919149</td>\n",
       "      <td>0.919220</td>\n",
       "      <td>0.9185</td>\n",
       "    </tr>\n",
       "    <tr>\n",
       "      <th>Cosine + Popularity</th>\n",
       "      <td>0.921047</td>\n",
       "      <td>0.921069</td>\n",
       "      <td>0.9208</td>\n",
       "    </tr>\n",
       "    <tr>\n",
       "      <th>BPR + Popularity</th>\n",
       "      <td>0.872156</td>\n",
       "      <td>0.872903</td>\n",
       "      <td>0.8668</td>\n",
       "    </tr>\n",
       "  </tbody>\n",
       "</table>\n",
       "</div>"
      ],
      "text/plain": [
       "                      Accuracy (valid)  Accuracy (test)     AUC\n",
       "Popularity                    0.876413         0.876930  0.8716\n",
       "Jaccard + Popularity          0.919149         0.919220  0.9185\n",
       "Cosine + Popularity           0.921047         0.921069  0.9208\n",
       "BPR + Popularity              0.872156         0.872903  0.8668"
      ]
     },
     "execution_count": 68,
     "metadata": {},
     "output_type": "execute_result"
    }
   ],
   "source": [
    "results = {\n",
    "    'Popularity': {'Accuracy (valid)': pop_accValid, 'Accuracy (test)': pop_accTest, 'AUC': pop_AUC},\n",
    "    'Jaccard + Popularity': {'Accuracy (valid)': jaccardPop_accValid, 'Accuracy (test)': jaccardPop_accTest, 'AUC': jaccardPop_AUC},\n",
    "    'Cosine + Popularity': {'Accuracy (valid)': cosinePop_accValid, 'Accuracy (test)': cosinePop_accTest, 'AUC': cosinePop_AUC},\n",
    "    'BPR + Popularity': {'Accuracy (valid)': bpr_accValid, 'Accuracy (test)': bpr_accTest, 'AUC': bpr_AUC},\n",
    "}\n",
    "\n",
    "results_df = pd.DataFrame(results).T\n",
    "results_df"
   ]
  },
  {
   "cell_type": "code",
   "execution_count": 61,
   "metadata": {},
   "outputs": [],
   "source": [
    "# # Tune BPR Threshold:\n",
    "# thresholds = [0.1, 0.2, 0.3, 0.4, 0.5, 0.6, 0.7, 0.8, 0.9]\n",
    "# bpr_accs = []\n",
    "\n",
    "# for threshold in thresholds:\n",
    "#     nUserStreamers = 0\n",
    "#     p1 = 0  \n",
    "#     correct = 0\n",
    "#     for (label,sample) in [(1, watchedValid), (0, notWatchedValid)]:\n",
    "#         for (u,s) in sample:\n",
    "#             nUserStreamers +=1\n",
    "#             pred = 0\n",
    "#             rank = modelBPR.predict(userIDsAll[u], streamer_nameIDsAll[s]).numpy()\n",
    "#             if rank > threshold:\n",
    "#                 pred = 1\n",
    "#                 p1 +=1 \n",
    "#             if pred == label:\n",
    "#                 correct += 1\n",
    "#     bpr_accs.append( (correct / (len(watchedValid)+len(notWatchedValid)), threshold, p1, nUserStreamers-p1 ) )"
   ]
  },
  {
   "cell_type": "code",
   "execution_count": 62,
   "metadata": {},
   "outputs": [],
   "source": [
    "# bpr_accs"
   ]
  }
 ],
 "metadata": {
  "kernelspec": {
   "display_name": "Python 3 (ipykernel)",
   "language": "python",
   "name": "python3"
  },
  "language_info": {
   "codemirror_mode": {
    "name": "ipython",
    "version": 3
   },
   "file_extension": ".py",
   "mimetype": "text/x-python",
   "name": "python",
   "nbconvert_exporter": "python",
   "pygments_lexer": "ipython3",
   "version": "3.11.0"
  }
 },
 "nbformat": 4,
 "nbformat_minor": 2
}
