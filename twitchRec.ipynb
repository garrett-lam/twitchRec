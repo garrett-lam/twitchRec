{
 "cells": [
  {
   "cell_type": "code",
   "execution_count": 51,
   "metadata": {},
   "outputs": [],
   "source": [
    "import gzip\n",
    "import pandas as pd\n",
    "import numpy as np\n",
    "import seaborn as sns\n",
    "import matplotlib.pyplot as plt\n",
    "from collections import defaultdict\n",
    "import csv\n",
    "import json\n",
    "from sklearn.model_selection import train_test_split\n",
    "import random\n",
    "import math\n",
    "from sklearn.metrics import roc_curve\n",
    "from sklearn.metrics import roc_auc_score\n",
    "import tensorflow as tf\n",
    "import scipy\n",
    "# import implicit"
   ]
  },
  {
   "cell_type": "markdown",
   "metadata": {},
   "source": [
    "## EDA"
   ]
  },
  {
   "cell_type": "code",
   "execution_count": 2,
   "metadata": {},
   "outputs": [
    {
     "data": {
      "text/html": [
       "<div>\n",
       "<style scoped>\n",
       "    .dataframe tbody tr th:only-of-type {\n",
       "        vertical-align: middle;\n",
       "    }\n",
       "\n",
       "    .dataframe tbody tr th {\n",
       "        vertical-align: top;\n",
       "    }\n",
       "\n",
       "    .dataframe thead th {\n",
       "        text-align: right;\n",
       "    }\n",
       "</style>\n",
       "<table border=\"1\" class=\"dataframe\">\n",
       "  <thead>\n",
       "    <tr style=\"text-align: right;\">\n",
       "      <th></th>\n",
       "      <th>user_id</th>\n",
       "      <th>stream_id</th>\n",
       "      <th>streamer_name</th>\n",
       "      <th>start_time</th>\n",
       "      <th>stop_time</th>\n",
       "    </tr>\n",
       "  </thead>\n",
       "  <tbody>\n",
       "    <tr>\n",
       "      <th>0</th>\n",
       "      <td>1</td>\n",
       "      <td>33842865744</td>\n",
       "      <td>mithrain</td>\n",
       "      <td>154</td>\n",
       "      <td>156</td>\n",
       "    </tr>\n",
       "    <tr>\n",
       "      <th>1</th>\n",
       "      <td>1</td>\n",
       "      <td>33846768288</td>\n",
       "      <td>alptv</td>\n",
       "      <td>166</td>\n",
       "      <td>169</td>\n",
       "    </tr>\n",
       "    <tr>\n",
       "      <th>2</th>\n",
       "      <td>1</td>\n",
       "      <td>33886469056</td>\n",
       "      <td>mithrain</td>\n",
       "      <td>587</td>\n",
       "      <td>588</td>\n",
       "    </tr>\n",
       "    <tr>\n",
       "      <th>3</th>\n",
       "      <td>1</td>\n",
       "      <td>33887624992</td>\n",
       "      <td>wtcn</td>\n",
       "      <td>589</td>\n",
       "      <td>591</td>\n",
       "    </tr>\n",
       "    <tr>\n",
       "      <th>4</th>\n",
       "      <td>1</td>\n",
       "      <td>33890145056</td>\n",
       "      <td>jrokezftw</td>\n",
       "      <td>591</td>\n",
       "      <td>594</td>\n",
       "    </tr>\n",
       "    <tr>\n",
       "      <th>...</th>\n",
       "      <td>...</td>\n",
       "      <td>...</td>\n",
       "      <td>...</td>\n",
       "      <td>...</td>\n",
       "      <td>...</td>\n",
       "    </tr>\n",
       "    <tr>\n",
       "      <th>3051728</th>\n",
       "      <td>100000</td>\n",
       "      <td>34167930576</td>\n",
       "      <td>mckytv</td>\n",
       "      <td>3582</td>\n",
       "      <td>3583</td>\n",
       "    </tr>\n",
       "    <tr>\n",
       "      <th>3051729</th>\n",
       "      <td>100000</td>\n",
       "      <td>34168288656</td>\n",
       "      <td>natehill</td>\n",
       "      <td>3582</td>\n",
       "      <td>3583</td>\n",
       "    </tr>\n",
       "    <tr>\n",
       "      <th>3051730</th>\n",
       "      <td>100000</td>\n",
       "      <td>34169594512</td>\n",
       "      <td>fortnite</td>\n",
       "      <td>3582</td>\n",
       "      <td>3584</td>\n",
       "    </tr>\n",
       "    <tr>\n",
       "      <th>3051731</th>\n",
       "      <td>100000</td>\n",
       "      <td>34180223072</td>\n",
       "      <td>highdistortion</td>\n",
       "      <td>3709</td>\n",
       "      <td>3711</td>\n",
       "    </tr>\n",
       "    <tr>\n",
       "      <th>3051732</th>\n",
       "      <td>100000</td>\n",
       "      <td>34181187808</td>\n",
       "      <td>symfuhny</td>\n",
       "      <td>3706</td>\n",
       "      <td>3708</td>\n",
       "    </tr>\n",
       "  </tbody>\n",
       "</table>\n",
       "<p>3051733 rows × 5 columns</p>\n",
       "</div>"
      ],
      "text/plain": [
       "         user_id    stream_id   streamer_name  start_time  stop_time\n",
       "0              1  33842865744        mithrain         154        156\n",
       "1              1  33846768288           alptv         166        169\n",
       "2              1  33886469056        mithrain         587        588\n",
       "3              1  33887624992            wtcn         589        591\n",
       "4              1  33890145056       jrokezftw         591        594\n",
       "...          ...          ...             ...         ...        ...\n",
       "3051728   100000  34167930576          mckytv        3582       3583\n",
       "3051729   100000  34168288656        natehill        3582       3583\n",
       "3051730   100000  34169594512        fortnite        3582       3584\n",
       "3051731   100000  34180223072  highdistortion        3709       3711\n",
       "3051732   100000  34181187808        symfuhny        3706       3708\n",
       "\n",
       "[3051733 rows x 5 columns]"
      ]
     },
     "execution_count": 2,
     "metadata": {},
     "output_type": "execute_result"
    }
   ],
   "source": [
    "df = pd.read_csv('100k_a.csv', header=None)\n",
    "df = df.rename(columns={0: 'user_id', 1: 'stream_id', 2: 'streamer_name', 3: 'start_time', 4: 'stop_time'})\n",
    "df"
   ]
  },
  {
   "cell_type": "code",
   "execution_count": 3,
   "metadata": {},
   "outputs": [
    {
     "data": {
      "text/plain": [
       "user_id          0\n",
       "stream_id        0\n",
       "streamer_name    0\n",
       "start_time       0\n",
       "stop_time        0\n",
       "dtype: int64"
      ]
     },
     "execution_count": 3,
     "metadata": {},
     "output_type": "execute_result"
    }
   ],
   "source": [
    "df.isna().sum() # check for NAs"
   ]
  },
  {
   "cell_type": "code",
   "execution_count": null,
   "metadata": {},
   "outputs": [],
   "source": [
    "df['user_id'].nunique(), df['stream_id'].nunique(), df['streamer_name'].nunique() "
   ]
  },
  {
   "cell_type": "code",
   "execution_count": 4,
   "metadata": {},
   "outputs": [],
   "source": [
    "# Start and stop times are provided as integers and represent periods of 10 minutes.\n",
    "df['start_time'] = df['start_time'] * 10\n",
    "df['stop_time'] = df['stop_time'] * 10"
   ]
  },
  {
   "cell_type": "code",
   "execution_count": 5,
   "metadata": {},
   "outputs": [],
   "source": [
    "# convert minutes to hours\n",
    "df['time_spent'] = df['stop_time'] - df['start_time']"
   ]
  },
  {
   "cell_type": "code",
   "execution_count": 6,
   "metadata": {},
   "outputs": [
    {
     "data": {
      "text/html": [
       "<div>\n",
       "<style scoped>\n",
       "    .dataframe tbody tr th:only-of-type {\n",
       "        vertical-align: middle;\n",
       "    }\n",
       "\n",
       "    .dataframe tbody tr th {\n",
       "        vertical-align: top;\n",
       "    }\n",
       "\n",
       "    .dataframe thead th {\n",
       "        text-align: right;\n",
       "    }\n",
       "</style>\n",
       "<table border=\"1\" class=\"dataframe\">\n",
       "  <thead>\n",
       "    <tr style=\"text-align: right;\">\n",
       "      <th></th>\n",
       "      <th>user_id</th>\n",
       "      <th>stream_id</th>\n",
       "      <th>streamer_name</th>\n",
       "      <th>start_time</th>\n",
       "      <th>stop_time</th>\n",
       "      <th>time_spent</th>\n",
       "    </tr>\n",
       "  </thead>\n",
       "  <tbody>\n",
       "    <tr>\n",
       "      <th>7071</th>\n",
       "      <td>247</td>\n",
       "      <td>34317269936</td>\n",
       "      <td>failverde</td>\n",
       "      <td>50820</td>\n",
       "      <td>51370</td>\n",
       "      <td>550</td>\n",
       "    </tr>\n",
       "    <tr>\n",
       "      <th>18587</th>\n",
       "      <td>649</td>\n",
       "      <td>34071314928</td>\n",
       "      <td>dota2ruhub</td>\n",
       "      <td>25530</td>\n",
       "      <td>26040</td>\n",
       "      <td>510</td>\n",
       "    </tr>\n",
       "    <tr>\n",
       "      <th>22627</th>\n",
       "      <td>769</td>\n",
       "      <td>34103327360</td>\n",
       "      <td>elmiillor</td>\n",
       "      <td>28400</td>\n",
       "      <td>28950</td>\n",
       "      <td>550</td>\n",
       "    </tr>\n",
       "    <tr>\n",
       "      <th>33314</th>\n",
       "      <td>1133</td>\n",
       "      <td>34104883024</td>\n",
       "      <td>tfue</td>\n",
       "      <td>28560</td>\n",
       "      <td>29280</td>\n",
       "      <td>720</td>\n",
       "    </tr>\n",
       "    <tr>\n",
       "      <th>33316</th>\n",
       "      <td>1133</td>\n",
       "      <td>34115354272</td>\n",
       "      <td>ninja</td>\n",
       "      <td>29810</td>\n",
       "      <td>30360</td>\n",
       "      <td>550</td>\n",
       "    </tr>\n",
       "    <tr>\n",
       "      <th>...</th>\n",
       "      <td>...</td>\n",
       "      <td>...</td>\n",
       "      <td>...</td>\n",
       "      <td>...</td>\n",
       "      <td>...</td>\n",
       "      <td>...</td>\n",
       "    </tr>\n",
       "    <tr>\n",
       "      <th>3035821</th>\n",
       "      <td>99543</td>\n",
       "      <td>34219020832</td>\n",
       "      <td>zironicdk</td>\n",
       "      <td>41130</td>\n",
       "      <td>41620</td>\n",
       "      <td>490</td>\n",
       "    </tr>\n",
       "    <tr>\n",
       "      <th>3042010</th>\n",
       "      <td>99699</td>\n",
       "      <td>34157423888</td>\n",
       "      <td>mejash</td>\n",
       "      <td>34730</td>\n",
       "      <td>35240</td>\n",
       "      <td>510</td>\n",
       "    </tr>\n",
       "    <tr>\n",
       "      <th>3044264</th>\n",
       "      <td>99776</td>\n",
       "      <td>34057571888</td>\n",
       "      <td>dota2ruhub</td>\n",
       "      <td>23790</td>\n",
       "      <td>24350</td>\n",
       "      <td>560</td>\n",
       "    </tr>\n",
       "    <tr>\n",
       "      <th>3044380</th>\n",
       "      <td>99776</td>\n",
       "      <td>34374601376</td>\n",
       "      <td>dota2ruhub</td>\n",
       "      <td>56820</td>\n",
       "      <td>57360</td>\n",
       "      <td>540</td>\n",
       "    </tr>\n",
       "    <tr>\n",
       "      <th>3049753</th>\n",
       "      <td>99934</td>\n",
       "      <td>34057525360</td>\n",
       "      <td>mdldisney</td>\n",
       "      <td>24000</td>\n",
       "      <td>24520</td>\n",
       "      <td>520</td>\n",
       "    </tr>\n",
       "  </tbody>\n",
       "</table>\n",
       "<p>731 rows × 6 columns</p>\n",
       "</div>"
      ],
      "text/plain": [
       "         user_id    stream_id streamer_name  start_time  stop_time  time_spent\n",
       "7071         247  34317269936     failverde       50820      51370         550\n",
       "18587        649  34071314928    dota2ruhub       25530      26040         510\n",
       "22627        769  34103327360     elmiillor       28400      28950         550\n",
       "33314       1133  34104883024          tfue       28560      29280         720\n",
       "33316       1133  34115354272         ninja       29810      30360         550\n",
       "...          ...          ...           ...         ...        ...         ...\n",
       "3035821    99543  34219020832     zironicdk       41130      41620         490\n",
       "3042010    99699  34157423888        mejash       34730      35240         510\n",
       "3044264    99776  34057571888    dota2ruhub       23790      24350         560\n",
       "3044380    99776  34374601376    dota2ruhub       56820      57360         540\n",
       "3049753    99934  34057525360     mdldisney       24000      24520         520\n",
       "\n",
       "[731 rows x 6 columns]"
      ]
     },
     "execution_count": 6,
     "metadata": {},
     "output_type": "execute_result"
    }
   ],
   "source": [
    "# check for outliers in time_spent; those who watch greater than 8 hours, unrealistic for someone to actively be watching a stream for longer than 8 hours and more likely just left tab open\n",
    "df[df['time_spent'] > 480]"
   ]
  },
  {
   "cell_type": "code",
   "execution_count": 7,
   "metadata": {},
   "outputs": [
    {
     "data": {
      "text/html": [
       "<div>\n",
       "<style scoped>\n",
       "    .dataframe tbody tr th:only-of-type {\n",
       "        vertical-align: middle;\n",
       "    }\n",
       "\n",
       "    .dataframe tbody tr th {\n",
       "        vertical-align: top;\n",
       "    }\n",
       "\n",
       "    .dataframe thead th {\n",
       "        text-align: right;\n",
       "    }\n",
       "</style>\n",
       "<table border=\"1\" class=\"dataframe\">\n",
       "  <thead>\n",
       "    <tr style=\"text-align: right;\">\n",
       "      <th></th>\n",
       "      <th>user_id</th>\n",
       "      <th>stream_id</th>\n",
       "      <th>streamer_name</th>\n",
       "      <th>start_time</th>\n",
       "      <th>stop_time</th>\n",
       "      <th>time_spent</th>\n",
       "    </tr>\n",
       "  </thead>\n",
       "  <tbody>\n",
       "    <tr>\n",
       "      <th>0</th>\n",
       "      <td>1</td>\n",
       "      <td>33842865744</td>\n",
       "      <td>mithrain</td>\n",
       "      <td>1540</td>\n",
       "      <td>1560</td>\n",
       "      <td>20</td>\n",
       "    </tr>\n",
       "    <tr>\n",
       "      <th>1</th>\n",
       "      <td>1</td>\n",
       "      <td>33846768288</td>\n",
       "      <td>alptv</td>\n",
       "      <td>1660</td>\n",
       "      <td>1690</td>\n",
       "      <td>30</td>\n",
       "    </tr>\n",
       "    <tr>\n",
       "      <th>2</th>\n",
       "      <td>1</td>\n",
       "      <td>33886469056</td>\n",
       "      <td>mithrain</td>\n",
       "      <td>5870</td>\n",
       "      <td>5880</td>\n",
       "      <td>10</td>\n",
       "    </tr>\n",
       "    <tr>\n",
       "      <th>3</th>\n",
       "      <td>1</td>\n",
       "      <td>33887624992</td>\n",
       "      <td>wtcn</td>\n",
       "      <td>5890</td>\n",
       "      <td>5910</td>\n",
       "      <td>20</td>\n",
       "    </tr>\n",
       "    <tr>\n",
       "      <th>4</th>\n",
       "      <td>1</td>\n",
       "      <td>33890145056</td>\n",
       "      <td>jrokezftw</td>\n",
       "      <td>5910</td>\n",
       "      <td>5940</td>\n",
       "      <td>30</td>\n",
       "    </tr>\n",
       "    <tr>\n",
       "      <th>...</th>\n",
       "      <td>...</td>\n",
       "      <td>...</td>\n",
       "      <td>...</td>\n",
       "      <td>...</td>\n",
       "      <td>...</td>\n",
       "      <td>...</td>\n",
       "    </tr>\n",
       "    <tr>\n",
       "      <th>3051728</th>\n",
       "      <td>100000</td>\n",
       "      <td>34167930576</td>\n",
       "      <td>mckytv</td>\n",
       "      <td>35820</td>\n",
       "      <td>35830</td>\n",
       "      <td>10</td>\n",
       "    </tr>\n",
       "    <tr>\n",
       "      <th>3051729</th>\n",
       "      <td>100000</td>\n",
       "      <td>34168288656</td>\n",
       "      <td>natehill</td>\n",
       "      <td>35820</td>\n",
       "      <td>35830</td>\n",
       "      <td>10</td>\n",
       "    </tr>\n",
       "    <tr>\n",
       "      <th>3051730</th>\n",
       "      <td>100000</td>\n",
       "      <td>34169594512</td>\n",
       "      <td>fortnite</td>\n",
       "      <td>35820</td>\n",
       "      <td>35840</td>\n",
       "      <td>20</td>\n",
       "    </tr>\n",
       "    <tr>\n",
       "      <th>3051731</th>\n",
       "      <td>100000</td>\n",
       "      <td>34180223072</td>\n",
       "      <td>highdistortion</td>\n",
       "      <td>37090</td>\n",
       "      <td>37110</td>\n",
       "      <td>20</td>\n",
       "    </tr>\n",
       "    <tr>\n",
       "      <th>3051732</th>\n",
       "      <td>100000</td>\n",
       "      <td>34181187808</td>\n",
       "      <td>symfuhny</td>\n",
       "      <td>37060</td>\n",
       "      <td>37080</td>\n",
       "      <td>20</td>\n",
       "    </tr>\n",
       "  </tbody>\n",
       "</table>\n",
       "<p>3051002 rows × 6 columns</p>\n",
       "</div>"
      ],
      "text/plain": [
       "         user_id    stream_id   streamer_name  start_time  stop_time  \\\n",
       "0              1  33842865744        mithrain        1540       1560   \n",
       "1              1  33846768288           alptv        1660       1690   \n",
       "2              1  33886469056        mithrain        5870       5880   \n",
       "3              1  33887624992            wtcn        5890       5910   \n",
       "4              1  33890145056       jrokezftw        5910       5940   \n",
       "...          ...          ...             ...         ...        ...   \n",
       "3051728   100000  34167930576          mckytv       35820      35830   \n",
       "3051729   100000  34168288656        natehill       35820      35830   \n",
       "3051730   100000  34169594512        fortnite       35820      35840   \n",
       "3051731   100000  34180223072  highdistortion       37090      37110   \n",
       "3051732   100000  34181187808        symfuhny       37060      37080   \n",
       "\n",
       "         time_spent  \n",
       "0                20  \n",
       "1                30  \n",
       "2                10  \n",
       "3                20  \n",
       "4                30  \n",
       "...             ...  \n",
       "3051728          10  \n",
       "3051729          10  \n",
       "3051730          20  \n",
       "3051731          20  \n",
       "3051732          20  \n",
       "\n",
       "[3051002 rows x 6 columns]"
      ]
     },
     "execution_count": 7,
     "metadata": {},
     "output_type": "execute_result"
    }
   ],
   "source": [
    "# only keep those who have watched <= 8 hours\n",
    "df = df[df['time_spent'] <= 480]\n",
    "df"
   ]
  },
  {
   "cell_type": "code",
   "execution_count": 8,
   "metadata": {},
   "outputs": [
    {
     "data": {
      "text/plain": [
       "10     1559891\n",
       "20      498252\n",
       "30      263958\n",
       "40      168944\n",
       "50      115769\n",
       "60       85323\n",
       "70       64238\n",
       "80       49751\n",
       "90       40007\n",
       "100      32180\n",
       "110      26825\n",
       "120      22509\n",
       "130      18312\n",
       "140      15173\n",
       "150      12759\n",
       "160      10884\n",
       "170       9396\n",
       "180       8149\n",
       "190       6876\n",
       "200       5834\n",
       "210       4922\n",
       "220       4384\n",
       "230       3832\n",
       "240       3292\n",
       "250       2849\n",
       "260       2276\n",
       "270       1983\n",
       "280       1740\n",
       "290       1430\n",
       "300       1308\n",
       "310       1084\n",
       "320        996\n",
       "330        823\n",
       "340        737\n",
       "350        688\n",
       "360        565\n",
       "370        468\n",
       "380        426\n",
       "390        372\n",
       "400        296\n",
       "420        276\n",
       "410        263\n",
       "430        223\n",
       "440        207\n",
       "450        168\n",
       "460        136\n",
       "470        134\n",
       "480         94\n",
       "Name: time_spent, dtype: int64"
      ]
     },
     "execution_count": 8,
     "metadata": {},
     "output_type": "execute_result"
    }
   ],
   "source": [
    "df['time_spent'].value_counts()"
   ]
  },
  {
   "cell_type": "code",
   "execution_count": 9,
   "metadata": {},
   "outputs": [
    {
     "name": "stdout",
     "output_type": "stream",
     "text": [
      "<class 'pandas.core.frame.DataFrame'>\n",
      "Int64Index: 3051002 entries, 0 to 3051732\n",
      "Data columns (total 6 columns):\n",
      " #   Column         Dtype \n",
      "---  ------         ----- \n",
      " 0   user_id        int64 \n",
      " 1   stream_id      int64 \n",
      " 2   streamer_name  object\n",
      " 3   start_time     int64 \n",
      " 4   stop_time      int64 \n",
      " 5   time_spent     int64 \n",
      "dtypes: int64(5), object(1)\n",
      "memory usage: 162.9+ MB\n"
     ]
    }
   ],
   "source": [
    "df.info()"
   ]
  },
  {
   "cell_type": "code",
   "execution_count": 10,
   "metadata": {},
   "outputs": [
    {
     "data": {
      "text/html": [
       "<div>\n",
       "<style scoped>\n",
       "    .dataframe tbody tr th:only-of-type {\n",
       "        vertical-align: middle;\n",
       "    }\n",
       "\n",
       "    .dataframe tbody tr th {\n",
       "        vertical-align: top;\n",
       "    }\n",
       "\n",
       "    .dataframe thead th {\n",
       "        text-align: right;\n",
       "    }\n",
       "</style>\n",
       "<table border=\"1\" class=\"dataframe\">\n",
       "  <thead>\n",
       "    <tr style=\"text-align: right;\">\n",
       "      <th></th>\n",
       "      <th>user_id</th>\n",
       "      <th>stream_id</th>\n",
       "      <th>start_time</th>\n",
       "      <th>stop_time</th>\n",
       "      <th>time_spent</th>\n",
       "    </tr>\n",
       "  </thead>\n",
       "  <tbody>\n",
       "    <tr>\n",
       "      <th>count</th>\n",
       "      <td>3.051002e+06</td>\n",
       "      <td>3.051002e+06</td>\n",
       "      <td>3.051002e+06</td>\n",
       "      <td>3.051002e+06</td>\n",
       "      <td>3.051002e+06</td>\n",
       "    </tr>\n",
       "    <tr>\n",
       "      <th>mean</th>\n",
       "      <td>5.032247e+04</td>\n",
       "      <td>3.413001e+10</td>\n",
       "      <td>3.145919e+04</td>\n",
       "      <td>3.149048e+04</td>\n",
       "      <td>3.129228e+01</td>\n",
       "    </tr>\n",
       "    <tr>\n",
       "      <th>std</th>\n",
       "      <td>2.889483e+04</td>\n",
       "      <td>1.682299e+08</td>\n",
       "      <td>1.772582e+04</td>\n",
       "      <td>1.772713e+04</td>\n",
       "      <td>4.175118e+01</td>\n",
       "    </tr>\n",
       "    <tr>\n",
       "      <th>min</th>\n",
       "      <td>1.000000e+00</td>\n",
       "      <td>3.380153e+10</td>\n",
       "      <td>0.000000e+00</td>\n",
       "      <td>1.000000e+01</td>\n",
       "      <td>1.000000e+01</td>\n",
       "    </tr>\n",
       "    <tr>\n",
       "      <th>25%</th>\n",
       "      <td>2.528400e+04</td>\n",
       "      <td>3.398877e+10</td>\n",
       "      <td>1.617000e+04</td>\n",
       "      <td>1.620000e+04</td>\n",
       "      <td>1.000000e+01</td>\n",
       "    </tr>\n",
       "    <tr>\n",
       "      <th>50%</th>\n",
       "      <td>5.029800e+04</td>\n",
       "      <td>3.413068e+10</td>\n",
       "      <td>3.174000e+04</td>\n",
       "      <td>3.178000e+04</td>\n",
       "      <td>1.000000e+01</td>\n",
       "    </tr>\n",
       "    <tr>\n",
       "      <th>75%</th>\n",
       "      <td>7.545200e+04</td>\n",
       "      <td>3.427399e+10</td>\n",
       "      <td>4.676000e+04</td>\n",
       "      <td>4.679000e+04</td>\n",
       "      <td>3.000000e+01</td>\n",
       "    </tr>\n",
       "    <tr>\n",
       "      <th>max</th>\n",
       "      <td>1.000000e+05</td>\n",
       "      <td>3.441642e+10</td>\n",
       "      <td>6.147000e+04</td>\n",
       "      <td>6.148000e+04</td>\n",
       "      <td>4.800000e+02</td>\n",
       "    </tr>\n",
       "  </tbody>\n",
       "</table>\n",
       "</div>"
      ],
      "text/plain": [
       "            user_id     stream_id    start_time     stop_time    time_spent\n",
       "count  3.051002e+06  3.051002e+06  3.051002e+06  3.051002e+06  3.051002e+06\n",
       "mean   5.032247e+04  3.413001e+10  3.145919e+04  3.149048e+04  3.129228e+01\n",
       "std    2.889483e+04  1.682299e+08  1.772582e+04  1.772713e+04  4.175118e+01\n",
       "min    1.000000e+00  3.380153e+10  0.000000e+00  1.000000e+01  1.000000e+01\n",
       "25%    2.528400e+04  3.398877e+10  1.617000e+04  1.620000e+04  1.000000e+01\n",
       "50%    5.029800e+04  3.413068e+10  3.174000e+04  3.178000e+04  1.000000e+01\n",
       "75%    7.545200e+04  3.427399e+10  4.676000e+04  4.679000e+04  3.000000e+01\n",
       "max    1.000000e+05  3.441642e+10  6.147000e+04  6.148000e+04  4.800000e+02"
      ]
     },
     "execution_count": 10,
     "metadata": {},
     "output_type": "execute_result"
    }
   ],
   "source": [
    "df.describe()"
   ]
  },
  {
   "cell_type": "code",
   "execution_count": 11,
   "metadata": {},
   "outputs": [
    {
     "data": {
      "text/plain": [
       "(100000, 739972, 162624)"
      ]
     },
     "execution_count": 11,
     "metadata": {},
     "output_type": "execute_result"
    }
   ],
   "source": [
    "# number of streamer_names and number of stream_ids are different, suggesting that each streamer_name maps to multiple stream_ids, use streamer_name as item\n",
    "df['user_id'].nunique(), df['stream_id'].nunique(), df['streamer_name'].nunique() "
   ]
  },
  {
   "cell_type": "code",
   "execution_count": null,
   "metadata": {},
   "outputs": [],
   "source": [
    "# drop irrelevant features:\n",
    "df = df.drop(['streamer_id','start_time','stop_time'], axis=1)"
   ]
  },
  {
   "cell_type": "code",
   "execution_count": 12,
   "metadata": {},
   "outputs": [
    {
     "name": "stderr",
     "output_type": "stream",
     "text": [
      "C:\\Users\\sukhm\\AppData\\Local\\Temp\\ipykernel_8264\\2070851834.py:6: FutureWarning: \n",
      "\n",
      "Passing `palette` without assigning `hue` is deprecated and will be removed in v0.14.0. Assign the `x` variable to `hue` and set `legend=False` for the same effect.\n",
      "\n",
      "  sns.barplot(x=top_streamers.index, y=top_streamers.values, palette='deep')\n"
     ]
    },
    {
     "data": {
      "image/png": "[encoded data removed]",
      "text/plain": [
       "<Figure size 1200x800 with 1 Axes>"
      ]
     },
     "metadata": {},
     "output_type": "display_data"
    }
   ],
   "source": [
    "# Most popular streamers\n",
    "top_streamers = df['streamer_name'].value_counts().nlargest(15)\n",
    "\n",
    "# Plotting with Seaborn\n",
    "plt.figure(figsize=(12, 8))\n",
    "sns.barplot(x=top_streamers.index, y=top_streamers.values, palette='deep')\n",
    "plt.title('Top 15 Streamers')\n",
    "plt.xlabel('Streamer Name')\n",
    "plt.ylabel('Number of Views')\n",
    "plt.xticks(rotation=45, ha='right')\n",
    "plt.show()\n"
   ]
  },
  {
   "cell_type": "code",
   "execution_count": 13,
   "metadata": {},
   "outputs": [
    {
     "data": {
      "text/plain": [
       "Text(0.5, 0, 'Number of Unique Streamers')"
      ]
     },
     "execution_count": 13,
     "metadata": {},
     "output_type": "execute_result"
    },
    {
     "data": {
      "image/png": "[encoded data removed]",
      "text/plain": [
       "<Figure size 1000x600 with 1 Axes>"
      ]
     },
     "metadata": {},
     "output_type": "display_data"
    }
   ],
   "source": [
    "# Distribution of number of unique streamers watched by user\n",
    "unique_streamers_per_user = df.groupby('user_id')['streamer_name'].nunique()\n",
    "\n",
    "plt.figure(figsize=(10, 6))\n",
    "sns.histplot(unique_streamers_per_user, bins=156)\n",
    "plt.title('Distribution of Unique Streamers Watched per User')\n",
    "plt.xlabel('Number of Unique Streamers')"
   ]
  },
  {
   "cell_type": "code",
   "execution_count": 14,
   "metadata": {},
   "outputs": [
    {
     "data": {
      "text/plain": [
       "(156,\n",
       " 5      9157\n",
       " 6      7394\n",
       " 4      7141\n",
       " 7      6206\n",
       " 8      5216\n",
       "        ... \n",
       " 134       1\n",
       " 186       1\n",
       " 135       1\n",
       " 140       1\n",
       " 184       1\n",
       " Name: streamer_name, Length: 156, dtype: int64)"
      ]
     },
     "execution_count": 14,
     "metadata": {},
     "output_type": "execute_result"
    }
   ],
   "source": [
    "unique_streamers_per_user.nunique(), unique_streamers_per_user.value_counts().sort_values(ascending=False)"
   ]
  },
  {
   "cell_type": "code",
   "execution_count": 15,
   "metadata": {},
   "outputs": [
    {
     "data": {
      "text/plain": [
       "Text(0.5, 0, 'Number of Times Watched')"
      ]
     },
     "execution_count": 15,
     "metadata": {},
     "output_type": "execute_result"
    },
    {
     "data": {
      "image/png": "[encoded data removed]",
      "text/plain": [
       "<Figure size 1000x600 with 1 Axes>"
      ]
     },
     "metadata": {},
     "output_type": "display_data"
    }
   ],
   "source": [
    "# Distribution of repeated user streamer interactions\n",
    "user_streamer_pairs_counts = df.groupby(['user_id', 'streamer_name']).size().reset_index(name='watch_count')\n",
    "\n",
    "# filter for repeated watches\n",
    "rewatched_pairs = user_streamer_pairs_counts[user_streamer_pairs_counts['watch_count'] > 1]\n",
    "\n",
    "plt.figure(figsize=(10, 6))\n",
    "sns.histplot(rewatched_pairs['watch_count'], bins=55)\n",
    "plt.title('Distribution of Repeated User-Streamer Interactions')\n",
    "plt.xlabel('Number of Times Watched')"
   ]
  },
  {
   "cell_type": "code",
   "execution_count": 16,
   "metadata": {},
   "outputs": [
    {
     "data": {
      "text/plain": [
       "(55,\n",
       " 2     234196\n",
       " 3     111210\n",
       " 4      64250\n",
       " 5      41576\n",
       " 6      27919\n",
       " 7      19368\n",
       " 8      13904\n",
       " 9       9912\n",
       " 10      7109\n",
       " 11      5241\n",
       " 12      3726\n",
       " 13      2635\n",
       " 14      1858\n",
       " 15      1341\n",
       " 16       952\n",
       " 17       644\n",
       " 18       480\n",
       " 19       341\n",
       " 20       257\n",
       " 21       185\n",
       " 22       148\n",
       " 23       113\n",
       " 24        75\n",
       " 25        68\n",
       " 26        55\n",
       " 27        41\n",
       " 28        39\n",
       " 29        24\n",
       " 31        24\n",
       " 30        21\n",
       " 33        12\n",
       " 32        11\n",
       " 37        10\n",
       " 36         7\n",
       " 34         6\n",
       " 35         6\n",
       " 39         6\n",
       " 38         6\n",
       " 40         5\n",
       " 41         5\n",
       " 47         4\n",
       " 44         3\n",
       " 42         3\n",
       " 62         2\n",
       " 50         2\n",
       " 52         2\n",
       " 63         2\n",
       " 45         2\n",
       " 78         1\n",
       " 48         1\n",
       " 92         1\n",
       " 82         1\n",
       " 90         1\n",
       " 59         1\n",
       " 61         1\n",
       " Name: watch_count, dtype: int64)"
      ]
     },
     "execution_count": 16,
     "metadata": {},
     "output_type": "execute_result"
    }
   ],
   "source": [
    "rewatched_pairs['watch_count'].nunique(), rewatched_pairs['watch_count'].value_counts().sort_values(ascending=False)"
   ]
  },
  {
   "cell_type": "code",
   "execution_count": 17,
   "metadata": {},
   "outputs": [
    {
     "data": {
      "text/plain": [
       "Text(0.5, 0, 'Time Spent (minutes)')"
      ]
     },
     "execution_count": 17,
     "metadata": {},
     "output_type": "execute_result"
    },
    {
     "data": {
      "image/png": "[encoded data removed]",
      "text/plain": [
       "<Figure size 1000x600 with 1 Axes>"
      ]
     },
     "metadata": {},
     "output_type": "display_data"
    }
   ],
   "source": [
    "# distribution of time spent\n",
    "plt.figure(figsize=(10, 6))\n",
    "sns.histplot(df['time_spent'], bins=48)\n",
    "plt.title('Distribution of Time Spent Watching Streams')\n",
    "plt.xlabel('Time Spent (minutes)')"
   ]
  },
  {
   "cell_type": "code",
   "execution_count": 18,
   "metadata": {},
   "outputs": [
    {
     "data": {
      "text/plain": [
       "(48,\n",
       " 10     1559891\n",
       " 20      498252\n",
       " 30      263958\n",
       " 40      168944\n",
       " 50      115769\n",
       " 60       85323\n",
       " 70       64238\n",
       " 80       49751\n",
       " 90       40007\n",
       " 100      32180\n",
       " 110      26825\n",
       " 120      22509\n",
       " 130      18312\n",
       " 140      15173\n",
       " 150      12759\n",
       " 160      10884\n",
       " 170       9396\n",
       " 180       8149\n",
       " 190       6876\n",
       " 200       5834\n",
       " 210       4922\n",
       " 220       4384\n",
       " 230       3832\n",
       " 240       3292\n",
       " 250       2849\n",
       " 260       2276\n",
       " 270       1983\n",
       " 280       1740\n",
       " 290       1430\n",
       " 300       1308\n",
       " 310       1084\n",
       " 320        996\n",
       " 330        823\n",
       " 340        737\n",
       " 350        688\n",
       " 360        565\n",
       " 370        468\n",
       " 380        426\n",
       " 390        372\n",
       " 400        296\n",
       " 420        276\n",
       " 410        263\n",
       " 430        223\n",
       " 440        207\n",
       " 450        168\n",
       " 460        136\n",
       " 470        134\n",
       " 480         94\n",
       " Name: time_spent, dtype: int64)"
      ]
     },
     "execution_count": 18,
     "metadata": {},
     "output_type": "execute_result"
    }
   ],
   "source": [
    "df['time_spent'].nunique(), df['time_spent'].value_counts()"
   ]
  },
  {
   "cell_type": "code",
   "execution_count": null,
   "metadata": {},
   "outputs": [],
   "source": [
    "# Top left: Distribution of time spent\n",
    "plt.figure(figsize=(12, 9))\n",
    "\n",
    "plt.subplot(2, 2, 1)\n",
    "sns.histplot(df['time_spent'], bins=48)\n",
    "plt.title('Distribution of Time Spent Watching Streams')\n",
    "plt.xlabel('Time Spent (minutes)')\n",
    "\n",
    "# Top right: Top 15 most popular streamers\n",
    "plt.subplot(2, 2, 2)\n",
    "sns.barplot(x=top_streamers.index, y=top_streamers.values, palette='deep')\n",
    "plt.title('Top 15 Streamers')\n",
    "plt.xlabel('Streamer Name')\n",
    "plt.ylabel('Number of Views')\n",
    "plt.xticks(rotation=45, ha='right')\n",
    "\n",
    "# Bottom left: Distribution of number of unique streamers watched by user\n",
    "plt.subplot(2, 2, 3)\n",
    "sns.histplot(unique_streamers_per_user, bins=156)\n",
    "plt.title('Distribution of Unique Streamers Watched per User')\n",
    "plt.xlabel('Number of Unique Streamers')\n",
    "\n",
    "# Bottom right: Distribution of repeated user streamer interactions\n",
    "plt.subplot(2, 2, 4)\n",
    "sns.histplot(rewatched_pairs['watch_count'], bins=55)\n",
    "plt.title('Distribution of Repeated User-Streamer Interactions')\n",
    "plt.xlabel('Number of Times Watched')\n",
    "\n",
    "# Adjust layout\n",
    "plt.tight_layout()\n",
    "\n",
    "plt.savefig('eda_figs.png', dpi=500)"
   ]
  },
  {
   "cell_type": "code",
   "execution_count": 19,
   "metadata": {
    "scrolled": true
   },
   "outputs": [
    {
     "data": {
      "text/html": [
       "<div>\n",
       "<style scoped>\n",
       "    .dataframe tbody tr th:only-of-type {\n",
       "        vertical-align: middle;\n",
       "    }\n",
       "\n",
       "    .dataframe tbody tr th {\n",
       "        vertical-align: top;\n",
       "    }\n",
       "\n",
       "    .dataframe thead th {\n",
       "        text-align: right;\n",
       "    }\n",
       "</style>\n",
       "<table border=\"1\" class=\"dataframe\">\n",
       "  <thead>\n",
       "    <tr style=\"text-align: right;\">\n",
       "      <th></th>\n",
       "      <th>user_id</th>\n",
       "      <th>stream_id</th>\n",
       "      <th>streamer_name</th>\n",
       "      <th>start_time</th>\n",
       "      <th>stop_time</th>\n",
       "      <th>time_spent</th>\n",
       "    </tr>\n",
       "  </thead>\n",
       "  <tbody>\n",
       "    <tr>\n",
       "      <th>559707</th>\n",
       "      <td>18494</td>\n",
       "      <td>34347867904</td>\n",
       "      <td>forsen</td>\n",
       "      <td>54250</td>\n",
       "      <td>54290</td>\n",
       "      <td>40</td>\n",
       "    </tr>\n",
       "    <tr>\n",
       "      <th>81219</th>\n",
       "      <td>2723</td>\n",
       "      <td>34309635472</td>\n",
       "      <td>callofduty</td>\n",
       "      <td>50250</td>\n",
       "      <td>50260</td>\n",
       "      <td>10</td>\n",
       "    </tr>\n",
       "    <tr>\n",
       "      <th>301537</th>\n",
       "      <td>10197</td>\n",
       "      <td>34140040400</td>\n",
       "      <td>elraenn</td>\n",
       "      <td>32950</td>\n",
       "      <td>32960</td>\n",
       "      <td>10</td>\n",
       "    </tr>\n",
       "    <tr>\n",
       "      <th>986344</th>\n",
       "      <td>32688</td>\n",
       "      <td>33854552896</td>\n",
       "      <td>nubkeks</td>\n",
       "      <td>2650</td>\n",
       "      <td>2710</td>\n",
       "      <td>60</td>\n",
       "    </tr>\n",
       "    <tr>\n",
       "      <th>1660926</th>\n",
       "      <td>54764</td>\n",
       "      <td>34196801808</td>\n",
       "      <td>mrbboy45</td>\n",
       "      <td>38680</td>\n",
       "      <td>38690</td>\n",
       "      <td>10</td>\n",
       "    </tr>\n",
       "    <tr>\n",
       "      <th>...</th>\n",
       "      <td>...</td>\n",
       "      <td>...</td>\n",
       "      <td>...</td>\n",
       "      <td>...</td>\n",
       "      <td>...</td>\n",
       "      <td>...</td>\n",
       "    </tr>\n",
       "    <tr>\n",
       "      <th>1693123</th>\n",
       "      <td>55868</td>\n",
       "      <td>34178329664</td>\n",
       "      <td>wazztv_</td>\n",
       "      <td>36670</td>\n",
       "      <td>36680</td>\n",
       "      <td>10</td>\n",
       "    </tr>\n",
       "    <tr>\n",
       "      <th>2356878</th>\n",
       "      <td>77705</td>\n",
       "      <td>34360830384</td>\n",
       "      <td>lol_madlife</td>\n",
       "      <td>55540</td>\n",
       "      <td>55610</td>\n",
       "      <td>70</td>\n",
       "    </tr>\n",
       "    <tr>\n",
       "      <th>2229595</th>\n",
       "      <td>73485</td>\n",
       "      <td>34402293776</td>\n",
       "      <td>italiand0g</td>\n",
       "      <td>60020</td>\n",
       "      <td>60060</td>\n",
       "      <td>40</td>\n",
       "    </tr>\n",
       "    <tr>\n",
       "      <th>2768969</th>\n",
       "      <td>91071</td>\n",
       "      <td>34033287680</td>\n",
       "      <td>gsl</td>\n",
       "      <td>20950</td>\n",
       "      <td>21000</td>\n",
       "      <td>50</td>\n",
       "    </tr>\n",
       "    <tr>\n",
       "      <th>2219615</th>\n",
       "      <td>73179</td>\n",
       "      <td>33837570208</td>\n",
       "      <td>kaazy</td>\n",
       "      <td>970</td>\n",
       "      <td>980</td>\n",
       "      <td>10</td>\n",
       "    </tr>\n",
       "  </tbody>\n",
       "</table>\n",
       "<p>3051002 rows × 6 columns</p>\n",
       "</div>"
      ],
      "text/plain": [
       "         user_id    stream_id streamer_name  start_time  stop_time  time_spent\n",
       "559707     18494  34347867904        forsen       54250      54290          40\n",
       "81219       2723  34309635472    callofduty       50250      50260          10\n",
       "301537     10197  34140040400       elraenn       32950      32960          10\n",
       "986344     32688  33854552896       nubkeks        2650       2710          60\n",
       "1660926    54764  34196801808      mrbboy45       38680      38690          10\n",
       "...          ...          ...           ...         ...        ...         ...\n",
       "1693123    55868  34178329664       wazztv_       36670      36680          10\n",
       "2356878    77705  34360830384   lol_madlife       55540      55610          70\n",
       "2229595    73485  34402293776    italiand0g       60020      60060          40\n",
       "2768969    91071  34033287680           gsl       20950      21000          50\n",
       "2219615    73179  33837570208         kaazy         970        980          10\n",
       "\n",
       "[3051002 rows x 6 columns]"
      ]
     },
     "execution_count": 19,
     "metadata": {},
     "output_type": "execute_result"
    }
   ],
   "source": [
    "# shuffle dataframe\n",
    "df = df.sample(frac=1, random_state=42)  \n",
    "df"
   ]
  },
  {
   "cell_type": "code",
   "execution_count": 20,
   "metadata": {},
   "outputs": [],
   "source": [
    "# convert df to list of json\n",
    "data = df.to_dict(orient='records')"
   ]
  },
  {
   "cell_type": "code",
   "execution_count": 21,
   "metadata": {},
   "outputs": [],
   "source": [
    "# Build basic data structures for WHOLE dataset:\n",
    "uniqueStreamers = set() \n",
    "watchedSet = set()\n",
    "streamerPerUser = defaultdict(set)\n",
    "usersPerStreamer = defaultdict(set)\n",
    "streamerViews = defaultdict(int)\n",
    "interactionCount = defaultdict(int)\n",
    "timeDict = {}\n",
    "userIDs,streamerIDs = {},{}\n",
    "\n",
    "for d in data:\n",
    "    user = d['user_id']\n",
    "    streamer = d['streamer_name']\n",
    "    if not user in userIDs: userIDs[user] = len(userIDs)\n",
    "    if not streamer in streamerIDs: streamerIDs[streamer] = len(streamerIDs)\n",
    "    uniqueStreamers.add(streamer)\n",
    "    watchedSet.add((user,streamer))\n",
    "    streamerPerUser[user].add(streamer)\n",
    "    usersPerStreamer[streamer].add(user)\n",
    "    streamerViews[streamer] += 1\n",
    "    interactionCount[(user,streamer)] += 1\n",
    "    timeDict[(user,streamer)] = d['time_spent']"
   ]
  },
  {
   "cell_type": "markdown",
   "metadata": {},
   "source": [
    "# Data Preparation"
   ]
  },
  {
   "cell_type": "code",
   "execution_count": 22,
   "metadata": {},
   "outputs": [],
   "source": [
    "# Split into training, validation, testing\n",
    "train, temp = train_test_split(data, test_size=0.3, random_state=123)\n",
    "valid, test = train_test_split(temp, test_size=0.5, random_state=123)"
   ]
  },
  {
   "cell_type": "code",
   "execution_count": 23,
   "metadata": {},
   "outputs": [
    {
     "data": {
      "text/plain": [
       "(3051002, 915301, 457650, 457651)"
      ]
     },
     "execution_count": 23,
     "metadata": {},
     "output_type": "execute_result"
    }
   ],
   "source": [
    "len(data), len(temp), len(valid), len(test)"
   ]
  },
  {
   "cell_type": "code",
   "execution_count": 24,
   "metadata": {
    "scrolled": true
   },
   "outputs": [
    {
     "data": {
      "text/plain": [
       "(3051002, 3051002)"
      ]
     },
     "execution_count": 24,
     "metadata": {},
     "output_type": "execute_result"
    }
   ],
   "source": [
    "len(data), len(train) + len(valid) + len(test)"
   ]
  },
  {
   "cell_type": "code",
   "execution_count": 26,
   "metadata": {},
   "outputs": [],
   "source": [
    "## Generate negative samples for validation set\n",
    "watchedValid = set()\n",
    "for d in valid:\n",
    "    watchedValid.add((d['user_id'],d['streamer_name']))\n",
    "\n",
    "notWatchedValid = set()\n",
    "for d in valid:\n",
    "    u = d['user_id']\n",
    "    s = random.choice(list(uniqueStreamers))\n",
    "    while (u,s) in watchedSet or (u,s) in notWatchedValid:\n",
    "        s = random.choice(list(uniqueStreamers))\n",
    "    notWatchedValid.add((u,s))"
   ]
  },
  {
   "cell_type": "code",
   "execution_count": 27,
   "metadata": {},
   "outputs": [],
   "source": [
    "## Generate negative samples for testing set\n",
    "watchedTest = set()\n",
    "for d in test:\n",
    "    watchedTest.add((d['user_id'],d['streamer_name']))\n",
    "\n",
    "notWatchedTest = set()\n",
    "for d in test:\n",
    "    u = d['user_id']\n",
    "    s = random.choice(list(uniqueStreamers))\n",
    "    while (u,s) in watchedSet or (u,s) in notWatchedTest:\n",
    "        s = random.choice(list(uniqueStreamers))\n",
    "    notWatchedTest.add((u,s))"
   ]
  },
  {
   "cell_type": "code",
   "execution_count": 28,
   "metadata": {},
   "outputs": [],
   "source": [
    "# Build basic data structures for TRAINING dataset:\n",
    "streamerPerUserTrain = defaultdict(set)\n",
    "usersPerStreamerTrain = defaultdict(set)\n",
    "streamerViewsTrain = defaultdict(int)\n",
    "interactionCountTrain = defaultdict(int)\n",
    "timeDictTrain = {}\n",
    "\n",
    "for d in train:\n",
    "    user = d['user_id']\n",
    "    streamer = d['streamer_name']\n",
    "    streamerPerUserTrain[user].add(streamer)\n",
    "    usersPerStreamerTrain[streamer].add(user)\n",
    "    streamerViewsTrain[streamer] += 1\n",
    "    interactionCountTrain[(user,streamer)] += 1\n",
    "    timeDictTrain[(user,streamer)] = d['time_spent']\n",
    "\n",
    "# streamerPerUser = defaultdict(set)\n",
    "# usersPerStreamer = defaultdict(set)\n",
    "# streamerPopularity = defaultdict(int)\n",
    "# timeDict = {}\n",
    "\n",
    "# for index, row in train.iterrows():\n",
    "#     user = row['user_id']\n",
    "#     streamer = row['streamer name']\n",
    "#     time = row['time spent']\n",
    "#     streamerPerUser[user].add(streamer)\n",
    "#     usersPerStreamer[streamer].add(user)\n",
    "#     streamerPopularity[streamer] += 1\n",
    "#     timeDict[(user,streamer)] = time"
   ]
  },
  {
   "cell_type": "markdown",
   "metadata": {},
   "source": [
    "## ROC AUC Curve"
   ]
  },
  {
   "cell_type": "code",
   "execution_count": 61,
   "metadata": {},
   "outputs": [],
   "source": [
    "def plot_roc_curve(true_y, y_prob, title):\n",
    "    fpr, tpr, thresholds = roc_curve(true_y, y_prob)\n",
    "    auc = round(roc_auc_score(true_y, y_prob), 4)\n",
    "    plt.plot(fpr, tpr, label=f'{title} AUC = {auc:.2f}')\n",
    "    plt.legend()\n",
    "    plt.xlabel('False Positive Rate')\n",
    "    plt.ylabel('True Positive Rate')"
   ]
  },
  {
   "cell_type": "code",
   "execution_count": 30,
   "metadata": {},
   "outputs": [],
   "source": [
    "# y = [[(1, k), (0, y)] for k,y in zip(watchedValid, notWatchedValid)]\n",
    "y = [1 for _ in watchedValid] +[0 for _ in notWatchedValid]"
   ]
  },
  {
   "cell_type": "code",
   "execution_count": 31,
   "metadata": {},
   "outputs": [],
   "source": [
    "# cosineLabels"
   ]
  },
  {
   "cell_type": "code",
   "execution_count": null,
   "metadata": {},
   "outputs": [],
   "source": []
  },
  {
   "cell_type": "markdown",
   "metadata": {},
   "source": [
    "# Models"
   ]
  },
  {
   "cell_type": "markdown",
   "metadata": {},
   "source": [
    "### Popularity"
   ]
  },
  {
   "cell_type": "code",
   "execution_count": 32,
   "metadata": {},
   "outputs": [
    {
     "data": {
      "text/plain": [
       "(0.8293801380138014, 247335)"
      ]
     },
     "execution_count": 32,
     "metadata": {},
     "output_type": "execute_result"
    }
   ],
   "source": [
    "# Popularity\n",
    "correct = 0\n",
    "p1 = 0\n",
    "popularityLabels = []\n",
    "\n",
    "for (label,sample) in [(1, watchedValid), (0, notWatchedValid)]: \n",
    "    for (u,s) in sample:\n",
    "        pred = 0\n",
    "        if len(usersPerStreamerTrain[s]) > 11: # 11 seems to be the best lol \n",
    "            pred = 1\n",
    "            p1+= 1\n",
    "        if pred == label:\n",
    "            correct += 1\n",
    "        popularityLabels.append(pred)\n",
    "\n",
    "correct / (len(watchedValid) + len(notWatchedValid)) , p1"
   ]
  },
  {
   "cell_type": "code",
   "execution_count": 62,
   "metadata": {},
   "outputs": [
    {
     "data": {
      "image/png": "[encoded data removed]",
      "text/plain": [
       "<Figure size 640x480 with 1 Axes>"
      ]
     },
     "metadata": {},
     "output_type": "display_data"
    }
   ],
   "source": [
    "plot_roc_curve(y, popularityLabels, \"Popularity\")"
   ]
  },
  {
   "cell_type": "markdown",
   "metadata": {},
   "source": [
    "### Jaccard"
   ]
  },
  {
   "cell_type": "code",
   "execution_count": 34,
   "metadata": {},
   "outputs": [],
   "source": [
    "def Jaccard(s1, s2):\n",
    "    numer = len(s1.intersection(s2))\n",
    "    denom = len(s1.union(s2))\n",
    "    if denom == 0:\n",
    "        return 0\n",
    "    return numer / denom"
   ]
  },
  {
   "cell_type": "code",
   "execution_count": 35,
   "metadata": {},
   "outputs": [
    {
     "data": {
      "text/plain": [
       "(0.9109006900690069, 303121)"
      ]
     },
     "execution_count": 35,
     "metadata": {},
     "output_type": "execute_result"
    }
   ],
   "source": [
    "# Jaccard only\n",
    "correct = 0\n",
    "p1 = 0\n",
    "jaccardLabels = []\n",
    "\n",
    "for (label,sample) in [(1, watchedValid), (0, notWatchedValid)]: \n",
    "    for (u,s) in sample:\n",
    "        maxSim = float('-inf')\n",
    "        users = usersPerStreamerTrain[s]\n",
    "        pred = 0\n",
    "\n",
    "        for s2 in streamerPerUserTrain[u]:\n",
    "            sim = Jaccard(users,usersPerStreamerTrain[s2])\n",
    "            if sim == 1:\n",
    "                maxSim = sim\n",
    "                break\n",
    "            if sim > maxSim:\n",
    "                maxSim = sim\n",
    "        if maxSim > 0.058:\n",
    "            pred = 1\n",
    "            p1 += 1\n",
    "        if maxSim == float('-inf'):\n",
    "            jaccardLabels.append(0)\n",
    "            continue\n",
    "        if pred == label:\n",
    "            correct += 1\n",
    "        jaccardLabels.append(pred)\n",
    "        \n",
    "correct / (len(watchedValid) + len(notWatchedValid)) , p1"
   ]
  },
  {
   "cell_type": "code",
   "execution_count": 63,
   "metadata": {},
   "outputs": [
    {
     "data": {
      "image/png": "[encoded data removed]",
      "text/plain": [
       "<Figure size 640x480 with 1 Axes>"
      ]
     },
     "metadata": {},
     "output_type": "display_data"
    }
   ],
   "source": [
    "plot_roc_curve(y, jaccardLabels, \"Jaccard\")"
   ]
  },
  {
   "cell_type": "markdown",
   "metadata": {},
   "source": [
    "### Jaccard + Popularity"
   ]
  },
  {
   "cell_type": "code",
   "execution_count": 37,
   "metadata": {},
   "outputs": [
    {
     "data": {
      "text/plain": [
       "(0.930961896189619, 333241)"
      ]
     },
     "execution_count": 37,
     "metadata": {},
     "output_type": "execute_result"
    }
   ],
   "source": [
    "# Jaccard + Popularity\n",
    "correct = 0\n",
    "p1 = 0\n",
    "predLabels = []\n",
    "for (label,sample) in [(1, watchedValid), (0, notWatchedValid)]: \n",
    "    for (u,s) in sample:\n",
    "        maxSim = float('-inf')\n",
    "        users = usersPerStreamerTrain[s]\n",
    "        pred = 0\n",
    "\n",
    "        # cold-start user, just consider popularity of stream\n",
    "        if u not in streamerPerUserTrain:\n",
    "            if len(usersPerStreamerTrain[s]) > 11:\n",
    "                pred = 1\n",
    "                p1 += 1\n",
    "            predLabels.append(pred)\n",
    "        # user has been seen before\n",
    "        else:\n",
    "            for s2 in streamerPerUserTrain[u]:\n",
    "                sim = Jaccard(users,usersPerStreamerTrain[s2])\n",
    "                if sim == 1:\n",
    "                    maxSim = sim\n",
    "                    break\n",
    "                if sim > maxSim:\n",
    "                    maxSim = sim\n",
    "            if maxSim > 0.058 or len(usersPerStreamerTrain[s]) > 11:\n",
    "                pred = 1\n",
    "                p1 += 1\n",
    "        if maxSim == float('-inf') and pred == 0:\n",
    "            predLabels.append(0)\n",
    "            continue\n",
    "        if pred == label:\n",
    "            correct += 1\n",
    "        predLabels.append(pred)\n",
    "\n",
    "correct / (len(watchedValid) + len(notWatchedValid)) , p1"
   ]
  },
  {
   "cell_type": "code",
   "execution_count": 64,
   "metadata": {},
   "outputs": [
    {
     "data": {
      "image/png": "[encoded data removed]",
      "text/plain": [
       "<Figure size 640x480 with 1 Axes>"
      ]
     },
     "metadata": {},
     "output_type": "display_data"
    }
   ],
   "source": [
    "plot_roc_curve(y, predLabels, \"Jaccard + Popularity\")"
   ]
  },
  {
   "cell_type": "markdown",
   "metadata": {},
   "source": [
    "### Cosine"
   ]
  },
  {
   "cell_type": "code",
   "execution_count": 39,
   "metadata": {},
   "outputs": [],
   "source": [
    "def CosineSet(s1, s2):\n",
    "    # Not a proper implementation, operates on sets so correct for interactions only\n",
    "    numer = len(s1.intersection(s2))\n",
    "    denom = math.sqrt(len(s1)) * math.sqrt(len(s2))\n",
    "    if denom == 0:\n",
    "        return 0\n",
    "    return numer / denom"
   ]
  },
  {
   "cell_type": "code",
   "execution_count": 40,
   "metadata": {
    "scrolled": true
   },
   "outputs": [
    {
     "data": {
      "text/plain": [
       "(0.9246516651665166, 317279)"
      ]
     },
     "execution_count": 40,
     "metadata": {},
     "output_type": "execute_result"
    }
   ],
   "source": [
    "# Cosine Only\n",
    "correct = 0\n",
    "p1 = 0\n",
    "cosineLabels = []\n",
    "for (label,sample) in [(1, watchedValid), (0, notWatchedValid)]: \n",
    "    for (u,s) in sample:\n",
    "        maxSim = float('-inf')\n",
    "        users = usersPerStreamerTrain[s]\n",
    "        pred = 0\n",
    "\n",
    "        for s2 in streamerPerUserTrain[u]:\n",
    "            sim = CosineSet(users,usersPerStreamerTrain[s2])\n",
    "            if sim > maxSim:\n",
    "                maxSim = sim\n",
    "            if maxSim >= 0.9999:\n",
    "                break\n",
    "        if maxSim > 0.1:\n",
    "            pred = 1\n",
    "            p1 += 1\n",
    "        if maxSim == float('-inf'):\n",
    "            cosineLabels.append(pred)\n",
    "            continue\n",
    "        if pred == label:\n",
    "            correct += 1\n",
    "        cosineLabels.append(pred)\n",
    "\n",
    "correct / (len(watchedValid) + len(notWatchedValid)) , p1"
   ]
  },
  {
   "cell_type": "code",
   "execution_count": 65,
   "metadata": {
    "scrolled": true
   },
   "outputs": [
    {
     "data": {
      "image/png": "[encoded data removed]",
      "text/plain": [
       "<Figure size 640x480 with 1 Axes>"
      ]
     },
     "metadata": {},
     "output_type": "display_data"
    }
   ],
   "source": [
    "plot_roc_curve(y, cosineLabels, \"Cosine\")"
   ]
  },
  {
   "cell_type": "markdown",
   "metadata": {},
   "source": [
    "### All ROC Curves"
   ]
  },
  {
   "cell_type": "code",
   "execution_count": 69,
   "metadata": {},
   "outputs": [
    {
     "data": {
      "text/plain": [
       "Text(0, 0.5, 'True Positive Rate')"
      ]
     },
     "execution_count": 69,
     "metadata": {},
     "output_type": "execute_result"
    },
    {
     "data": {
      "image/png": "[encoded data removed]",
      "text/plain": [
       "<Figure size 640x480 with 1 Axes>"
      ]
     },
     "metadata": {},
     "output_type": "display_data"
    }
   ],
   "source": [
    "plt.figure(0).clf()\n",
    "\n",
    "fpr, tpr, _ = roc_curve(y, cosineLabels)\n",
    "auc = round(roc_auc_score(y, cosineLabels), 4)\n",
    "plt.plot(fpr,tpr,label=\"Cosine, AUC=\"+str(auc))\n",
    "\n",
    "fpr, tpr, _ = roc_curve(y, predLabels)\n",
    "auc = round(roc_auc_score(y, predLabels), 4)\n",
    "plt.plot(fpr,tpr,label=\"Jaccard + Popularity, AUC=\"+str(auc))\n",
    "\n",
    "fpr, tpr, _ = roc_curve(y, jaccardLabels)\n",
    "auc = round(roc_auc_score(y, jaccardLabels), 4)\n",
    "plt.plot(fpr,tpr,label=\"Jaccard, AUC=\"+str(auc))\n",
    "\n",
    "fpr, tpr, _ = roc_curve(y, popularityLabels)\n",
    "auc = round(roc_auc_score(y, popularityLabels), 4)\n",
    "plt.plot(fpr,tpr,label=\"Popularity, AUC=\"+str(auc))\n",
    "\n",
    "plt.legend()\n",
    "plt.xlabel('False Positive Rate')\n",
    "plt.ylabel('True Positive Rate')"
   ]
  },
  {
   "cell_type": "markdown",
   "metadata": {},
   "source": [
    "### BPR (implicit)"
   ]
  },
  {
   "cell_type": "code",
   "execution_count": 42,
   "metadata": {},
   "outputs": [],
   "source": [
    "# # Build matrix for BPR training\n",
    "# userIDsTrain,gameIDsTrain = {},{} \n",
    "# for u,g in playedTrain:\n",
    "#     if not u in userIDsTrain: userIDsTrain[u] = len(userIDsTrain)\n",
    "#     if not g in gameIDsTrain: gameIDsTrain[g] = len(gameIDsTrain)\n",
    "\n",
    "# # fill up matrix\n",
    "# XuiTrain = scipy.sparse.lil_matrix((len(userIDsTrain), len(gameIDsTrain)))\n",
    "# for u,g in playedTrain:\n",
    "#     XuiTrain[userIDsTrain[u],gameIDsTrain[g]] = 1\n",
    "\n",
    "# # turn into sprase csr matrix\n",
    "# XuiTrain_csr = scipy.sparse.csr_matrix(XuiTrain)\n",
    "# XuiTrain_csr"
   ]
  },
  {
   "cell_type": "markdown",
   "metadata": {},
   "source": [
    "### BPR (TF)"
   ]
  },
  {
   "cell_type": "code",
   "execution_count": 43,
   "metadata": {},
   "outputs": [],
   "source": [
    "# add all user-streamer pair for BPR\n",
    "watchedAll = set()\n",
    "for d in data:\n",
    "    watchedAll.add((d['user_id'],d['streamer_name']))"
   ]
  },
  {
   "cell_type": "code",
   "execution_count": 44,
   "metadata": {},
   "outputs": [],
   "source": [
    "userIDsAll,streamer_nameIDsAll = {},{} \n",
    "for u,s in watchedAll:\n",
    "    if not u in userIDsAll: userIDsAll[u] = len(userIDsAll)\n",
    "    if not s in streamer_nameIDsAll: streamer_nameIDsAll[s] = len(streamer_nameIDsAll)"
   ]
  },
  {
   "cell_type": "code",
   "execution_count": 45,
   "metadata": {
    "scrolled": true
   },
   "outputs": [],
   "source": [
    "class BPRbatch(tf.keras.Model):\n",
    "    def __init__(self, K, lamb):\n",
    "        super(BPRbatch, self).__init__()\n",
    "        # Initialize variables\n",
    "        self.betaI = tf.Variable(tf.random.normal([len(streamer_nameIDsAll)],stddev=0.001))\n",
    "        self.gammaU = tf.Variable(tf.random.normal([len(userIDsAll),K],stddev=0.001))\n",
    "        self.gammaI = tf.Variable(tf.random.normal([len(streamer_nameIDsAll),K],stddev=0.001))\n",
    "        # Regularization coefficient\n",
    "        self.lamb = lamb\n",
    "\n",
    "    # Prediction for a single instance\n",
    "    def predict(self, u, i):\n",
    "        p = self.betaI[i] + tf.tensordot(self.gammaU[u], self.gammaI[i], 1)\n",
    "        return p\n",
    "\n",
    "    # Regularizer\n",
    "    def reg(self):\n",
    "        return self.lamb * (tf.nn.l2_loss(self.betaI) +\\\n",
    "                            tf.nn.l2_loss(self.gammaU) +\\\n",
    "                            tf.nn.l2_loss(self.gammaI))\n",
    "    \n",
    "    def score(self, sampleU, sampleI):\n",
    "        u = tf.convert_to_tensor(sampleU, dtype=tf.int32)\n",
    "        i = tf.convert_to_tensor(sampleI, dtype=tf.int32)\n",
    "        beta_i = tf.nn.embedding_lookup(self.betaI, i)\n",
    "        gamma_u = tf.nn.embedding_lookup(self.gammaU, u)\n",
    "        gamma_i = tf.nn.embedding_lookup(self.gammaI, i)\n",
    "        x_ui = beta_i + tf.reduce_sum(tf.multiply(gamma_u, gamma_i), 1)\n",
    "        return x_ui\n",
    "\n",
    "    def call(self, sampleU, sampleI, sampleJ):\n",
    "        x_ui = self.score(sampleU, sampleI)\n",
    "        x_uj = self.score(sampleU, sampleJ)\n",
    "        return -tf.reduce_mean(tf.math.log(tf.math.sigmoid(x_ui - x_uj)))"
   ]
  },
  {
   "cell_type": "code",
   "execution_count": 46,
   "metadata": {},
   "outputs": [],
   "source": [
    "optimizer = tf.keras.optimizers.legacy.Adam(0.1)"
   ]
  },
  {
   "cell_type": "code",
   "execution_count": 47,
   "metadata": {},
   "outputs": [],
   "source": [
    "def trainingStepBPR(model, interactions):\n",
    "    Nsamples = 50000\n",
    "    with tf.GradientTape() as tape:\n",
    "        sampleU, sampleI, sampleJ = [], [], []\n",
    "        for _ in range(Nsamples):\n",
    "            u,i = random.choice(interactions) # positive sample (watchedAll)\n",
    "            j = random.choice(list(uniqueStreamers)) # negative sample\n",
    "            while j in streamerPerUserTrain[u]:\n",
    "                j = random.choice(list(uniqueStreamers))\n",
    "            sampleU.append(userIDsAll[u])\n",
    "            sampleI.append(streamer_nameIDsAll[i])\n",
    "            sampleJ.append(streamer_nameIDsAll[j])\n",
    "            \n",
    "        loss = model(sampleU,sampleI,sampleJ)\n",
    "        loss += model.reg()\n",
    "    gradients = tape.gradient(loss, model.trainable_variables)\n",
    "    optimizer.apply_gradients((grad, var) for\n",
    "                              (grad, var) in zip(gradients, model.trainable_variables)\n",
    "                              if grad is not None)\n",
    "    return loss.numpy()"
   ]
  },
  {
   "cell_type": "code",
   "execution_count": 48,
   "metadata": {},
   "outputs": [
    {
     "data": {
      "text/plain": [
       "(162624, 162624)"
      ]
     },
     "execution_count": 48,
     "metadata": {},
     "output_type": "execute_result"
    }
   ],
   "source": [
    "len(uniqueStreamers), len(streamer_nameIDsAll)"
   ]
  },
  {
   "cell_type": "code",
   "execution_count": 49,
   "metadata": {
    "scrolled": true
   },
   "outputs": [
    {
     "name": "stdout",
     "output_type": "stream",
     "text": [
      "WARNING:tensorflow:From C:\\Users\\sukhm\\anaconda3\\lib\\site-packages\\keras\\src\\backend.py:873: The name tf.get_default_graph is deprecated. Please use tf.compat.v1.get_default_graph instead.\n",
      "\n",
      "iteration 10, objective = 0.49582157\n"
     ]
    },
    {
     "ename": "KeyboardInterrupt",
     "evalue": "",
     "output_type": "error",
     "traceback": [
      "\u001b[1;31m---------------------------------------------------------------------------\u001b[0m",
      "\u001b[1;31mKeyboardInterrupt\u001b[0m                         Traceback (most recent call last)",
      "Cell \u001b[1;32mIn[49], line 3\u001b[0m\n\u001b[0;32m      1\u001b[0m modelBPR \u001b[38;5;241m=\u001b[39m BPRbatch(\u001b[38;5;241m3\u001b[39m, \u001b[38;5;241m0.00001\u001b[39m)\n\u001b[0;32m      2\u001b[0m \u001b[38;5;28;01mfor\u001b[39;00m i \u001b[38;5;129;01min\u001b[39;00m \u001b[38;5;28mrange\u001b[39m(\u001b[38;5;241m100\u001b[39m):\n\u001b[1;32m----> 3\u001b[0m     obj \u001b[38;5;241m=\u001b[39m \u001b[43mtrainingStepBPR\u001b[49m\u001b[43m(\u001b[49m\u001b[43mmodelBPR\u001b[49m\u001b[43m,\u001b[49m\u001b[43m \u001b[49m\u001b[38;5;28;43mlist\u001b[39;49m\u001b[43m(\u001b[49m\u001b[43mwatchedAll\u001b[49m\u001b[43m)\u001b[49m\u001b[43m)\u001b[49m\n\u001b[0;32m      4\u001b[0m     \u001b[38;5;28;01mif\u001b[39;00m (i \u001b[38;5;241m%\u001b[39m \u001b[38;5;241m10\u001b[39m \u001b[38;5;241m==\u001b[39m \u001b[38;5;241m9\u001b[39m): \u001b[38;5;28mprint\u001b[39m(\u001b[38;5;124m\"\u001b[39m\u001b[38;5;124miteration \u001b[39m\u001b[38;5;124m\"\u001b[39m \u001b[38;5;241m+\u001b[39m \u001b[38;5;28mstr\u001b[39m(i\u001b[38;5;241m+\u001b[39m\u001b[38;5;241m1\u001b[39m) \u001b[38;5;241m+\u001b[39m \u001b[38;5;124m\"\u001b[39m\u001b[38;5;124m, objective = \u001b[39m\u001b[38;5;124m\"\u001b[39m \u001b[38;5;241m+\u001b[39m \u001b[38;5;28mstr\u001b[39m(obj))\n",
      "Cell \u001b[1;32mIn[47], line 7\u001b[0m, in \u001b[0;36mtrainingStepBPR\u001b[1;34m(model, interactions)\u001b[0m\n\u001b[0;32m      5\u001b[0m \u001b[38;5;28;01mfor\u001b[39;00m _ \u001b[38;5;129;01min\u001b[39;00m \u001b[38;5;28mrange\u001b[39m(Nsamples):\n\u001b[0;32m      6\u001b[0m     u,i \u001b[38;5;241m=\u001b[39m random\u001b[38;5;241m.\u001b[39mchoice(interactions) \u001b[38;5;66;03m# positive sample (watchedAll)\u001b[39;00m\n\u001b[1;32m----> 7\u001b[0m     j \u001b[38;5;241m=\u001b[39m \u001b[43mrandom\u001b[49m\u001b[38;5;241;43m.\u001b[39;49m\u001b[43mchoice\u001b[49m\u001b[43m(\u001b[49m\u001b[38;5;28;43mlist\u001b[39;49m\u001b[43m(\u001b[49m\u001b[43muniqueStreamers\u001b[49m\u001b[43m)\u001b[49m\u001b[43m)\u001b[49m \u001b[38;5;66;03m# negative sample\u001b[39;00m\n\u001b[0;32m      8\u001b[0m     \u001b[38;5;28;01mwhile\u001b[39;00m j \u001b[38;5;129;01min\u001b[39;00m streamerPerUserTrain[u]:\n\u001b[0;32m      9\u001b[0m         j \u001b[38;5;241m=\u001b[39m random\u001b[38;5;241m.\u001b[39mchoice(\u001b[38;5;28mlist\u001b[39m(uniqueStreamers))\n",
      "File \u001b[1;32m~\\anaconda3\\lib\\random.py:375\u001b[0m, in \u001b[0;36mRandom.choice\u001b[1;34m(self, seq)\u001b[0m\n\u001b[0;32m    370\u001b[0m     \u001b[38;5;28;01mreturn\u001b[39;00m \u001b[38;5;28mself\u001b[39m\u001b[38;5;241m.\u001b[39mrandrange(a, b\u001b[38;5;241m+\u001b[39m\u001b[38;5;241m1\u001b[39m)\n\u001b[0;32m    373\u001b[0m \u001b[38;5;66;03m## -------------------- sequence methods  -------------------\u001b[39;00m\n\u001b[1;32m--> 375\u001b[0m \u001b[38;5;28;01mdef\u001b[39;00m \u001b[38;5;21mchoice\u001b[39m(\u001b[38;5;28mself\u001b[39m, seq):\n\u001b[0;32m    376\u001b[0m     \u001b[38;5;124;03m\"\"\"Choose a random element from a non-empty sequence.\"\"\"\u001b[39;00m\n\u001b[0;32m    377\u001b[0m     \u001b[38;5;66;03m# raises IndexError if seq is empty\u001b[39;00m\n",
      "\u001b[1;31mKeyboardInterrupt\u001b[0m: "
     ]
    }
   ],
   "source": [
    "modelBPR = BPRbatch(3, 0.00001)\n",
    "for i in range(100):\n",
    "    obj = trainingStepBPR(modelBPR, list(watchedAll))\n",
    "    if (i % 10 == 9): print(\"iteration \" + str(i+1) + \", objective = \" + str(obj))"
   ]
  },
  {
   "cell_type": "code",
   "execution_count": null,
   "metadata": {},
   "outputs": [],
   "source": [
    "# BPR model\n",
    "nUserStreamers = 0\n",
    "p1 = 0\n",
    "correct = 0\n",
    "for (label,sample) in [(1, watchedValid), (0, notWatchedValid)]:\n",
    "    for (u,s) in sample:\n",
    "        nUserStreamers +=1\n",
    "        pred = 0\n",
    "\n",
    "        # cold-start user, just consider popularity of stream\n",
    "        if u not in streamerPerUserTrain:\n",
    "            print('in here')\n",
    "            if len(usersPerStreamerTrain[s]) > 11:\n",
    "                pred = 1\n",
    "                p1 += 1\n",
    "                print('in here 2')\n",
    "        else:\n",
    "            rank = modelBPR.predict(userIDsAll[u], streamer_nameIDsAll[s]).numpy()\n",
    "            if rank > 0.3:\n",
    "                pred = 1\n",
    "                p1 +=1 \n",
    "        if pred == label:\n",
    "            correct += 1\n",
    "\n",
    "bpr_acc = correct / (len(watchedValid) + len(notWatchedValid))\n",
    "bpr_acc"
   ]
  },
  {
   "cell_type": "code",
   "execution_count": null,
   "metadata": {},
   "outputs": [],
   "source": [
    "p1, nUserStreamers - p1, nUserStreamers # 309617, 523633 for 0.5"
   ]
  },
  {
   "cell_type": "code",
   "execution_count": null,
   "metadata": {},
   "outputs": [],
   "source": [
    "# # Tune BPR Threshold:\n",
    "# thresholds = [0.1, 0.2, 0.3, 0.4, 0.5, 0.6, 0.7, 0.8, 0.9]\n",
    "# bpr_accs = []\n",
    "\n",
    "# for threshold in thresholds:\n",
    "#     nUserStreamers = 0\n",
    "#     p1 = 0  \n",
    "#     correct = 0\n",
    "#     for (label,sample) in [(1, watchedValid), (0, notWatchedValid)]:\n",
    "#         for (u,s) in sample:\n",
    "#             nUserStreamers +=1\n",
    "#             pred = 0\n",
    "#             rank = modelBPR.predict(userIDsAll[u], streamer_nameIDsAll[s]).numpy()\n",
    "#             if rank > threshold:\n",
    "#                 pred = 1\n",
    "#                 p1 +=1 \n",
    "#             if pred == label:\n",
    "#                 correct += 1\n",
    "#     bpr_accs.append( (correct / (len(watchedValid)+len(notWatchedValid)), threshold, p1, nUserStreamers-p1 ) )"
   ]
  },
  {
   "cell_type": "code",
   "execution_count": null,
   "metadata": {},
   "outputs": [],
   "source": [
    "# bpr_accs"
   ]
  },
  {
   "cell_type": "markdown",
   "metadata": {},
   "source": []
  },
  {
   "cell_type": "code",
   "execution_count": null,
   "metadata": {},
   "outputs": [],
   "source": [
    "# def plot_roc_curve(true_y, y_prob):\n",
    "#     fpr, tpr, thresholds = roc_curve(true_y, y_prob)\n",
    "#     plt.plot(fpr, tpr)\n",
    "#     plt.xlabel('False Positive Rate')\n",
    "#     plt.ylabel('True Positive Rate')"
   ]
  },
  {
   "cell_type": "code",
   "execution_count": null,
   "metadata": {},
   "outputs": [],
   "source": [
    "# # y = [[(1, k), (0, y)] for k,y in zip(watchedValid, notWatchedValid)]\n",
    "# y = [1 for _ in watchedValid] +[0 for _ in notWatchedValid]"
   ]
  },
  {
   "cell_type": "code",
   "execution_count": null,
   "metadata": {},
   "outputs": [],
   "source": [
    "# cosineLabels"
   ]
  },
  {
   "cell_type": "code",
   "execution_count": null,
   "metadata": {
    "scrolled": false
   },
   "outputs": [],
   "source": [
    "# plot_roc_curve(y, cosineLabels)"
   ]
  },
  {
   "cell_type": "code",
   "execution_count": null,
   "metadata": {},
   "outputs": [],
   "source": []
  }
 ],
 "metadata": {
  "kernelspec": {
   "display_name": "Python 3 (ipykernel)",
   "language": "python",
   "name": "python3"
  },
  "language_info": {
   "codemirror_mode": {
    "name": "ipython",
    "version": 3
   },
   "file_extension": ".py",
   "mimetype": "text/x-python",
   "name": "python",
   "nbconvert_exporter": "python",
   "pygments_lexer": "ipython3",
   "version": "3.9.6"
  }
 },
 "nbformat": 4,
 "nbformat_minor": 2
}
